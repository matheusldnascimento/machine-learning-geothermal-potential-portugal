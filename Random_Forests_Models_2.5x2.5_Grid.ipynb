{
 "cells": [
  {
   "cell_type": "markdown",
   "id": "125b4178",
   "metadata": {},
   "source": [
    "# <center>Random Forest For 2,5x2,5 Grid size:<center>"
   ]
  },
  {
   "cell_type": "markdown",
   "id": "3f01f4ba",
   "metadata": {},
   "source": [
    "## All Imports"
   ]
  },
  {
   "cell_type": "code",
   "execution_count": 1,
   "id": "2f7faa28",
   "metadata": {},
   "outputs": [],
   "source": [
    "import pandas as pd\n",
    "import numpy as np\n",
    "import sklearn\n",
    "from sklearn.preprocessing import StandardScaler, MinMaxScaler\n",
    "from sklearn.ensemble import RandomForestRegressor\n",
    "from sklearn.ensemble import GradientBoostingRegressor\n",
    "from sklearn.model_selection import train_test_split\n",
    "from sklearn.model_selection import cross_val_score\n",
    "from sklearn.model_selection import KFold\n",
    "from sklearn.model_selection import GridSearchCV\n",
    "from sklearn.metrics import mean_squared_error\n",
    "from sklearn.metrics import mean_absolute_error\n",
    "from sklearn.metrics import r2_score\n",
    "from sklearn.feature_selection import SelectFromModel\n",
    "from sklearn.feature_selection import SelectKBest\n",
    "from sklearn.feature_selection import f_regression\n",
    "from sklearn.decomposition import PCA\n",
    "import math\n",
    "from numpy import mean\n",
    "from numpy import std\n",
    "import matplotlib.pyplot as plt\n",
    "from sklearn.ensemble import IsolationForest"
   ]
  },
  {
   "cell_type": "markdown",
   "id": "a1fe166b",
   "metadata": {},
   "source": [
    "## Reading and Transforming data"
   ]
  },
  {
   "cell_type": "code",
   "execution_count": 62,
   "id": "4221ae49",
   "metadata": {
    "scrolled": false
   },
   "outputs": [
    {
     "name": "stdout",
     "output_type": "stream",
     "text": [
      "OBJECTID                             int64\n",
      "Id                                   int64\n",
      "gridcode                             int64\n",
      "point_X                            float64\n",
      "point_Y                            float64\n",
      "                                    ...   \n",
      "Mean for elevation                 float64\n",
      "Mean for Distance_Faults_MEAN      float64\n",
      "Mean for Distance_Faults_STD       float64\n",
      "Mean for Distance_QAFaults_MEAN    float64\n",
      "Mean for Distance_QAFaults_STD     float64\n",
      "Length: 250, dtype: object\n"
     ]
    }
   ],
   "source": [
    "dataset = pd.read_csv(\"Table_25x25_Final.csv\")\n",
    "dataTypeSeries = dataset.dtypes\n",
    "dataset = dataset.sample(frac=1, random_state=2)\n",
    "print(dataTypeSeries)"
   ]
  },
  {
   "cell_type": "code",
   "execution_count": 63,
   "id": "ffa5cad5",
   "metadata": {},
   "outputs": [],
   "source": [
    "selected_rows = dataset[~dataset[\"Grad_Geot\"].isnull()]"
   ]
  },
  {
   "cell_type": "code",
   "execution_count": 94,
   "id": "33cf60f8",
   "metadata": {},
   "outputs": [],
   "source": [
    "X = pd.DataFrame((selected_rows.drop(['Id', \"gridcode\", \"Shape_Length\", \"Shape_Area\", \"HFD\", \"Grad_Geot\", \"Count of Points\" ], axis=1)))\n",
    "Y = (selected_rows[\"Grad_Geot\"])"
   ]
  },
  {
   "cell_type": "markdown",
   "id": "50a17b49",
   "metadata": {},
   "source": [
    "### Outliers in label"
   ]
  },
  {
   "cell_type": "code",
   "execution_count": null,
   "id": "797aba2f",
   "metadata": {},
   "outputs": [],
   "source": []
  },
  {
   "cell_type": "code",
   "execution_count": 95,
   "id": "5aa19f41",
   "metadata": {},
   "outputs": [
    {
     "name": "stdout",
     "output_type": "stream",
     "text": [
      "Identified outliers: 3\n",
      "Non-outlier observations: 114\n",
      "[41.0, 48.0, 42.0]\n"
     ]
    }
   ],
   "source": [
    "Y_mean, Y_std = mean(Y), std(Y)\n",
    "# identify outliers\n",
    "cut_off = Y_std * 3\n",
    "lower, upper = Y_mean - cut_off, Y_mean + cut_off\n",
    "# identify outliers\n",
    "outliers = [x for x in Y if x < lower or x > upper]\n",
    "print('Identified outliers: %d' % len(outliers))\n",
    "# remove outliers\n",
    "outliers_removed = [x for x in Y if x >= lower and x <= upper]\n",
    "print('Non-outlier observations: %d' % len(outliers_removed))\n",
    "print(outliers)"
   ]
  },
  {
   "cell_type": "markdown",
   "id": "afddae22",
   "metadata": {},
   "source": [
    "### Removing Outliers From Data"
   ]
  },
  {
   "cell_type": "code",
   "execution_count": 96,
   "id": "62fd53e3",
   "metadata": {},
   "outputs": [],
   "source": [
    "selected_rows = dataset[~dataset[\"Grad_Geot\"].isnull()]"
   ]
  },
  {
   "cell_type": "code",
   "execution_count": 97,
   "id": "2b056e3a",
   "metadata": {},
   "outputs": [],
   "source": [
    "FinalData = selected_rows[~selected_rows['Grad_Geot'].isin(outliers)]"
   ]
  },
  {
   "cell_type": "code",
   "execution_count": 98,
   "id": "7d08d9e1",
   "metadata": {},
   "outputs": [],
   "source": [
    "X = pd.DataFrame((FinalData.drop([\"Id\", \"gridcode\", \"Shape_Length\", \"Shape_Area\", \"HFD\", \"Grad_Geot\", \"Count of Points\" ], axis=1)))\n",
    "Y = (FinalData[\"Grad_Geot\"])"
   ]
  },
  {
   "cell_type": "code",
   "execution_count": 99,
   "id": "c21f2e8b",
   "metadata": {},
   "outputs": [
    {
     "data": {
      "text/plain": [
       "(114,)"
      ]
     },
     "execution_count": 99,
     "metadata": {},
     "output_type": "execute_result"
    }
   ],
   "source": [
    "Y.shape"
   ]
  },
  {
   "cell_type": "code",
   "execution_count": 100,
   "id": "81e7159f",
   "metadata": {},
   "outputs": [
    {
     "data": {
      "text/plain": [
       "count    114.000000\n",
       "mean      21.405946\n",
       "std        5.338412\n",
       "min       10.000000\n",
       "25%       17.245000\n",
       "50%       20.800000\n",
       "75%       24.469950\n",
       "max       37.000000\n",
       "Name: Grad_Geot, dtype: float64"
      ]
     },
     "execution_count": 100,
     "metadata": {},
     "output_type": "execute_result"
    }
   ],
   "source": [
    "Y.describe()"
   ]
  },
  {
   "cell_type": "code",
   "execution_count": null,
   "id": "b9418269",
   "metadata": {},
   "outputs": [],
   "source": []
  },
  {
   "cell_type": "markdown",
   "id": "47dc569e",
   "metadata": {},
   "source": [
    "## MODEL - Geothermal Gradient "
   ]
  },
  {
   "cell_type": "code",
   "execution_count": 101,
   "id": "31c9b15e",
   "metadata": {},
   "outputs": [],
   "source": [
    "Regressor = RandomForestRegressor(criterion='absolute_error', max_depth=5, min_samples_leaf=1, min_samples_split=2,\n",
    "                                  n_estimators=100, random_state=2)\n",
    "Regressor.fit(X, Y)\n",
    "pred_Regressor = Regressor.predict(X)"
   ]
  },
  {
   "cell_type": "markdown",
   "id": "69981592",
   "metadata": {},
   "source": [
    "### Kfold"
   ]
  },
  {
   "cell_type": "code",
   "execution_count": 102,
   "id": "42d1e863",
   "metadata": {},
   "outputs": [
    {
     "name": "stdout",
     "output_type": "stream",
     "text": [
      "0.039130307389368735\n"
     ]
    }
   ],
   "source": [
    "k = 5\n",
    "kf = KFold(n_splits=k)\n",
    "result = cross_val_score(Regressor , X, Y, cv = kf)\n",
    "print (result.mean())"
   ]
  },
  {
   "cell_type": "code",
   "execution_count": 103,
   "id": "77c0296f",
   "metadata": {},
   "outputs": [
    {
     "name": "stdout",
     "output_type": "stream",
     "text": [
      "-4.058596305655069\n"
     ]
    }
   ],
   "source": [
    "k = 5\n",
    "kf = KFold(n_splits=k)\n",
    "result = cross_val_score(Regressor , X, Y, cv = kf, scoring='neg_mean_absolute_error')\n",
    "print (result.mean())"
   ]
  },
  {
   "cell_type": "code",
   "execution_count": 104,
   "id": "06381e97",
   "metadata": {},
   "outputs": [
    {
     "name": "stdout",
     "output_type": "stream",
     "text": [
      "-26.542367004527534\n"
     ]
    },
    {
     "data": {
      "text/plain": [
       "5.151928474321779"
      ]
     },
     "execution_count": 104,
     "metadata": {},
     "output_type": "execute_result"
    }
   ],
   "source": [
    "k = 5\n",
    "kf = KFold(n_splits=k)\n",
    "result = cross_val_score(Regressor , X, Y, cv = kf, scoring='neg_mean_squared_error')\n",
    "print (result.mean())\n",
    "rmse = math.sqrt(-result.mean())\n",
    "rmse"
   ]
  },
  {
   "cell_type": "code",
   "execution_count": null,
   "id": "a17764c9",
   "metadata": {},
   "outputs": [],
   "source": []
  },
  {
   "cell_type": "markdown",
   "id": "ada844fa",
   "metadata": {},
   "source": [
    "## Grid Search CV"
   ]
  },
  {
   "cell_type": "code",
   "execution_count": 30,
   "id": "cf8c7814",
   "metadata": {},
   "outputs": [],
   "source": [
    "n_estimators = [100, 200, 250, 500]\n",
    "criterion = ['absolute_error', 'squared_error']\n",
    "random_state = [2,3,4]\n",
    "max_depth = [5, 8, 10, 12, 15]\n",
    "min_samples_split = [2,3]\n",
    "min_samples_leaf = [1,2]"
   ]
  },
  {
   "cell_type": "code",
   "execution_count": 31,
   "id": "6c2d52fc",
   "metadata": {},
   "outputs": [],
   "source": [
    "param_grid = {'n_estimators' : n_estimators, 'criterion' : criterion, 'random_state' : random_state,\n",
    "              'min_samples_split' : min_samples_split, 'max_depth' : max_depth, 'min_samples_leaf' : min_samples_leaf}"
   ]
  },
  {
   "cell_type": "code",
   "execution_count": 35,
   "id": "9ef57057",
   "metadata": {
    "scrolled": true
   },
   "outputs": [
    {
     "data": {
      "text/plain": [
       "GridSearchCV(cv=5, estimator=RandomForestRegressor(),\n",
       "             param_grid={'criterion': ['absolute_error', 'squared_error'],\n",
       "                         'max_depth': [5, 8, 10, 12, 15],\n",
       "                         'min_samples_leaf': [1, 2],\n",
       "                         'min_samples_split': [2, 3],\n",
       "                         'n_estimators': [100, 200, 250, 500],\n",
       "                         'random_state': [2, 3, 4]})"
      ]
     },
     "execution_count": 35,
     "metadata": {},
     "output_type": "execute_result"
    }
   ],
   "source": [
    "rf_grid = GridSearchCV(estimator=Regressor, param_grid=param_grid, cv=5)\n",
    "rf_grid.fit(X, Y)"
   ]
  },
  {
   "cell_type": "code",
   "execution_count": 36,
   "id": "cbc281ce",
   "metadata": {},
   "outputs": [
    {
     "data": {
      "text/plain": [
       "{'criterion': 'absolute_error',\n",
       " 'max_depth': 5,\n",
       " 'min_samples_leaf': 1,\n",
       " 'min_samples_split': 2,\n",
       " 'n_estimators': 100,\n",
       " 'random_state': 2}"
      ]
     },
     "execution_count": 36,
     "metadata": {},
     "output_type": "execute_result"
    }
   ],
   "source": [
    "rf_grid.best_params_"
   ]
  },
  {
   "cell_type": "code",
   "execution_count": null,
   "id": "40b8705f",
   "metadata": {},
   "outputs": [],
   "source": []
  },
  {
   "cell_type": "code",
   "execution_count": null,
   "id": "58bccbd1",
   "metadata": {},
   "outputs": [],
   "source": []
  },
  {
   "cell_type": "markdown",
   "id": "4bccbdf8",
   "metadata": {},
   "source": [
    "# Feature Selection"
   ]
  },
  {
   "cell_type": "code",
   "execution_count": 49,
   "id": "9ba41b58",
   "metadata": {},
   "outputs": [
    {
     "name": "stdout",
     "output_type": "stream",
     "text": [
      "                                        Feature_names  Importances\n",
      "235                          Mean for Temperature_STD     0.088355\n",
      "3                                        Bouguer_MEAN     0.059248\n",
      "231                                Mean for Fault_STD     0.049859\n",
      "241                   Mean for Distance_QAFaults_MEAN     0.044837\n",
      "0                                            OBJECTID     0.036156\n",
      "..                                                ...          ...\n",
      "50                                     ZonaSeismic_05     0.000966\n",
      "161  MAX_ONEHOT_Descricao1_Dev_nico_do_Bordo_Sudoeste     0.000942\n",
      "49                                     ZonaSeismic_04     0.000896\n",
      "40                                          Texture_1     0.000887\n",
      "23                                       SlopeClass_6     0.000882\n",
      "\n",
      "[100 rows x 2 columns]\n"
     ]
    }
   ],
   "source": [
    "df = pd.DataFrame({'Feature_names' : X.columns, 'Importances' : Regressor.feature_importances_})\n",
    "\n",
    "print(df.sort_values(by='Importances', ascending=False).nlargest(100, 'Importances'))"
   ]
  },
  {
   "cell_type": "code",
   "execution_count": 156,
   "id": "a9a3e111",
   "metadata": {},
   "outputs": [
    {
     "data": {
      "text/html": [
       "\n",
       "    <style>\n",
       "    table.eli5-weights tr:hover {\n",
       "        filter: brightness(85%);\n",
       "    }\n",
       "</style>\n",
       "\n",
       "\n",
       "\n",
       "    \n",
       "\n",
       "    \n",
       "\n",
       "    \n",
       "\n",
       "    \n",
       "\n",
       "    \n",
       "\n",
       "    \n",
       "\n",
       "\n",
       "    \n",
       "\n",
       "    \n",
       "\n",
       "    \n",
       "\n",
       "    \n",
       "\n",
       "    \n",
       "\n",
       "    \n",
       "\n",
       "\n",
       "    \n",
       "\n",
       "    \n",
       "\n",
       "    \n",
       "\n",
       "    \n",
       "\n",
       "    \n",
       "        <table class=\"eli5-weights eli5-feature-importances\" style=\"border-collapse: collapse; border: none; margin-top: 0em; table-layout: auto;\">\n",
       "    <thead>\n",
       "    <tr style=\"border: none;\">\n",
       "        <th style=\"padding: 0 1em 0 0.5em; text-align: right; border: none;\">Weight</th>\n",
       "        <th style=\"padding: 0 0.5em 0 0.5em; text-align: left; border: none;\">Feature</th>\n",
       "    </tr>\n",
       "    </thead>\n",
       "    <tbody>\n",
       "    \n",
       "        <tr style=\"background-color: hsl(120, 100.00%, 80.00%); border: none;\">\n",
       "            <td style=\"padding: 0 1em 0 0.5em; text-align: right; border: none;\">\n",
       "                0.1097\n",
       "                \n",
       "                    &plusmn; 0.0264\n",
       "                \n",
       "            </td>\n",
       "            <td style=\"padding: 0 0.5em 0 0.5em; text-align: left; border: none;\">\n",
       "                Mean for Temperature_STD\n",
       "            </td>\n",
       "        </tr>\n",
       "    \n",
       "        <tr style=\"background-color: hsl(120, 100.00%, 81.05%); border: none;\">\n",
       "            <td style=\"padding: 0 1em 0 0.5em; text-align: right; border: none;\">\n",
       "                0.1016\n",
       "                \n",
       "                    &plusmn; 0.0404\n",
       "                \n",
       "            </td>\n",
       "            <td style=\"padding: 0 0.5em 0 0.5em; text-align: left; border: none;\">\n",
       "                Bouguer_MEAN\n",
       "            </td>\n",
       "        </tr>\n",
       "    \n",
       "        <tr style=\"background-color: hsl(120, 100.00%, 88.85%); border: none;\">\n",
       "            <td style=\"padding: 0 1em 0 0.5em; text-align: right; border: none;\">\n",
       "                0.0476\n",
       "                \n",
       "                    &plusmn; 0.0190\n",
       "                \n",
       "            </td>\n",
       "            <td style=\"padding: 0 0.5em 0 0.5em; text-align: left; border: none;\">\n",
       "                Mean for Fault_STD\n",
       "            </td>\n",
       "        </tr>\n",
       "    \n",
       "        <tr style=\"background-color: hsl(120, 100.00%, 90.12%); border: none;\">\n",
       "            <td style=\"padding: 0 1em 0 0.5em; text-align: right; border: none;\">\n",
       "                0.0401\n",
       "                \n",
       "                    &plusmn; 0.0195\n",
       "                \n",
       "            </td>\n",
       "            <td style=\"padding: 0 0.5em 0 0.5em; text-align: left; border: none;\">\n",
       "                Mean for Distance_QAFaults_MEAN\n",
       "            </td>\n",
       "        </tr>\n",
       "    \n",
       "        <tr style=\"background-color: hsl(120, 100.00%, 91.28%); border: none;\">\n",
       "            <td style=\"padding: 0 1em 0 0.5em; text-align: right; border: none;\">\n",
       "                0.0335\n",
       "                \n",
       "                    &plusmn; 0.0107\n",
       "                \n",
       "            </td>\n",
       "            <td style=\"padding: 0 0.5em 0 0.5em; text-align: left; border: none;\">\n",
       "                Fault_STD\n",
       "            </td>\n",
       "        </tr>\n",
       "    \n",
       "        <tr style=\"background-color: hsl(120, 100.00%, 91.28%); border: none;\">\n",
       "            <td style=\"padding: 0 1em 0 0.5em; text-align: right; border: none;\">\n",
       "                0.0335\n",
       "                \n",
       "                    &plusmn; 0.0056\n",
       "                \n",
       "            </td>\n",
       "            <td style=\"padding: 0 0.5em 0 0.5em; text-align: left; border: none;\">\n",
       "                Mean for Distance_QAFaults_STD\n",
       "            </td>\n",
       "        </tr>\n",
       "    \n",
       "        <tr style=\"background-color: hsl(120, 100.00%, 92.22%); border: none;\">\n",
       "            <td style=\"padding: 0 1em 0 0.5em; text-align: right; border: none;\">\n",
       "                0.0285\n",
       "                \n",
       "                    &plusmn; 0.0053\n",
       "                \n",
       "            </td>\n",
       "            <td style=\"padding: 0 0.5em 0 0.5em; text-align: left; border: none;\">\n",
       "                OBJECTID\n",
       "            </td>\n",
       "        </tr>\n",
       "    \n",
       "        <tr style=\"background-color: hsl(120, 100.00%, 92.52%); border: none;\">\n",
       "            <td style=\"padding: 0 1em 0 0.5em; text-align: right; border: none;\">\n",
       "                0.0269\n",
       "                \n",
       "                    &plusmn; 0.0170\n",
       "                \n",
       "            </td>\n",
       "            <td style=\"padding: 0 0.5em 0 0.5em; text-align: left; border: none;\">\n",
       "                Fault_SUM\n",
       "            </td>\n",
       "        </tr>\n",
       "    \n",
       "        <tr style=\"background-color: hsl(120, 100.00%, 93.54%); border: none;\">\n",
       "            <td style=\"padding: 0 1em 0 0.5em; text-align: right; border: none;\">\n",
       "                0.0218\n",
       "                \n",
       "                    &plusmn; 0.0071\n",
       "                \n",
       "            </td>\n",
       "            <td style=\"padding: 0 0.5em 0 0.5em; text-align: left; border: none;\">\n",
       "                elevation\n",
       "            </td>\n",
       "        </tr>\n",
       "    \n",
       "        <tr style=\"background-color: hsl(120, 100.00%, 93.55%); border: none;\">\n",
       "            <td style=\"padding: 0 1em 0 0.5em; text-align: right; border: none;\">\n",
       "                0.0218\n",
       "                \n",
       "                    &plusmn; 0.0036\n",
       "                \n",
       "            </td>\n",
       "            <td style=\"padding: 0 0.5em 0 0.5em; text-align: left; border: none;\">\n",
       "                point_X\n",
       "            </td>\n",
       "        </tr>\n",
       "    \n",
       "        <tr style=\"background-color: hsl(120, 100.00%, 93.97%); border: none;\">\n",
       "            <td style=\"padding: 0 1em 0 0.5em; text-align: right; border: none;\">\n",
       "                0.0198\n",
       "                \n",
       "                    &plusmn; 0.0054\n",
       "                \n",
       "            </td>\n",
       "            <td style=\"padding: 0 0.5em 0 0.5em; text-align: left; border: none;\">\n",
       "                Mean for Bouguer_MEAN\n",
       "            </td>\n",
       "        </tr>\n",
       "    \n",
       "        <tr style=\"background-color: hsl(120, 100.00%, 94.17%); border: none;\">\n",
       "            <td style=\"padding: 0 1em 0 0.5em; text-align: right; border: none;\">\n",
       "                0.0188\n",
       "                \n",
       "                    &plusmn; 0.0090\n",
       "                \n",
       "            </td>\n",
       "            <td style=\"padding: 0 0.5em 0 0.5em; text-align: left; border: none;\">\n",
       "                Fault_MAX\n",
       "            </td>\n",
       "        </tr>\n",
       "    \n",
       "        <tr style=\"background-color: hsl(120, 100.00%, 94.23%); border: none;\">\n",
       "            <td style=\"padding: 0 1em 0 0.5em; text-align: right; border: none;\">\n",
       "                0.0186\n",
       "                \n",
       "                    &plusmn; 0.0039\n",
       "                \n",
       "            </td>\n",
       "            <td style=\"padding: 0 0.5em 0 0.5em; text-align: left; border: none;\">\n",
       "                Distance_Faults_MEAN\n",
       "            </td>\n",
       "        </tr>\n",
       "    \n",
       "        <tr style=\"background-color: hsl(120, 100.00%, 94.34%); border: none;\">\n",
       "            <td style=\"padding: 0 1em 0 0.5em; text-align: right; border: none;\">\n",
       "                0.0181\n",
       "                \n",
       "                    &plusmn; 0.0070\n",
       "                \n",
       "            </td>\n",
       "            <td style=\"padding: 0 0.5em 0 0.5em; text-align: left; border: none;\">\n",
       "                Drain_SUM\n",
       "            </td>\n",
       "        </tr>\n",
       "    \n",
       "        <tr style=\"background-color: hsl(120, 100.00%, 94.38%); border: none;\">\n",
       "            <td style=\"padding: 0 1em 0 0.5em; text-align: right; border: none;\">\n",
       "                0.0179\n",
       "                \n",
       "                    &plusmn; 0.0080\n",
       "                \n",
       "            </td>\n",
       "            <td style=\"padding: 0 0.5em 0 0.5em; text-align: left; border: none;\">\n",
       "                Mean_Bouguer_MEAN\n",
       "            </td>\n",
       "        </tr>\n",
       "    \n",
       "        <tr style=\"background-color: hsl(120, 100.00%, 94.40%); border: none;\">\n",
       "            <td style=\"padding: 0 1em 0 0.5em; text-align: right; border: none;\">\n",
       "                0.0178\n",
       "                \n",
       "                    &plusmn; 0.0033\n",
       "                \n",
       "            </td>\n",
       "            <td style=\"padding: 0 0.5em 0 0.5em; text-align: left; border: none;\">\n",
       "                Mean for Distance_Faults_STD\n",
       "            </td>\n",
       "        </tr>\n",
       "    \n",
       "        <tr style=\"background-color: hsl(120, 100.00%, 94.96%); border: none;\">\n",
       "            <td style=\"padding: 0 1em 0 0.5em; text-align: right; border: none;\">\n",
       "                0.0153\n",
       "                \n",
       "                    &plusmn; 0.0095\n",
       "                \n",
       "            </td>\n",
       "            <td style=\"padding: 0 0.5em 0 0.5em; text-align: left; border: none;\">\n",
       "                Fault_RANGE\n",
       "            </td>\n",
       "        </tr>\n",
       "    \n",
       "        <tr style=\"background-color: hsl(120, 100.00%, 95.42%); border: none;\">\n",
       "            <td style=\"padding: 0 1em 0 0.5em; text-align: right; border: none;\">\n",
       "                0.0134\n",
       "                \n",
       "                    &plusmn; 0.0053\n",
       "                \n",
       "            </td>\n",
       "            <td style=\"padding: 0 0.5em 0 0.5em; text-align: left; border: none;\">\n",
       "                Temperature_STD\n",
       "            </td>\n",
       "        </tr>\n",
       "    \n",
       "        <tr style=\"background-color: hsl(120, 100.00%, 95.52%); border: none;\">\n",
       "            <td style=\"padding: 0 1em 0 0.5em; text-align: right; border: none;\">\n",
       "                0.0129\n",
       "                \n",
       "                    &plusmn; 0.0037\n",
       "                \n",
       "            </td>\n",
       "            <td style=\"padding: 0 0.5em 0 0.5em; text-align: left; border: none;\">\n",
       "                Mean_Elevation\n",
       "            </td>\n",
       "        </tr>\n",
       "    \n",
       "        <tr style=\"background-color: hsl(120, 100.00%, 95.68%); border: none;\">\n",
       "            <td style=\"padding: 0 1em 0 0.5em; text-align: right; border: none;\">\n",
       "                0.0123\n",
       "                \n",
       "                    &plusmn; 0.0080\n",
       "                \n",
       "            </td>\n",
       "            <td style=\"padding: 0 0.5em 0 0.5em; text-align: left; border: none;\">\n",
       "                Soil_Intermediate_loamy\n",
       "            </td>\n",
       "        </tr>\n",
       "    \n",
       "        <tr style=\"background-color: hsl(120, 100.00%, 95.94%); border: none;\">\n",
       "            <td style=\"padding: 0 1em 0 0.5em; text-align: right; border: none;\">\n",
       "                0.0113\n",
       "                \n",
       "                    &plusmn; 0.0052\n",
       "                \n",
       "            </td>\n",
       "            <td style=\"padding: 0 0.5em 0 0.5em; text-align: left; border: none;\">\n",
       "                Fault_MIN\n",
       "            </td>\n",
       "        </tr>\n",
       "    \n",
       "        <tr style=\"background-color: hsl(120, 100.00%, 95.95%); border: none;\">\n",
       "            <td style=\"padding: 0 1em 0 0.5em; text-align: right; border: none;\">\n",
       "                0.0112\n",
       "                \n",
       "                    &plusmn; 0.0039\n",
       "                \n",
       "            </td>\n",
       "            <td style=\"padding: 0 0.5em 0 0.5em; text-align: left; border: none;\">\n",
       "                Mean for Distance_Faults_MEAN\n",
       "            </td>\n",
       "        </tr>\n",
       "    \n",
       "        <tr style=\"background-color: hsl(120, 100.00%, 96.28%); border: none;\">\n",
       "            <td style=\"padding: 0 1em 0 0.5em; text-align: right; border: none;\">\n",
       "                0.0099\n",
       "                \n",
       "                    &plusmn; 0.0041\n",
       "                \n",
       "            </td>\n",
       "            <td style=\"padding: 0 0.5em 0 0.5em; text-align: left; border: none;\">\n",
       "                Mean for elevation\n",
       "            </td>\n",
       "        </tr>\n",
       "    \n",
       "        <tr style=\"background-color: hsl(120, 100.00%, 96.33%); border: none;\">\n",
       "            <td style=\"padding: 0 1em 0 0.5em; text-align: right; border: none;\">\n",
       "                0.0097\n",
       "                \n",
       "                    &plusmn; 0.0027\n",
       "                \n",
       "            </td>\n",
       "            <td style=\"padding: 0 0.5em 0 0.5em; text-align: left; border: none;\">\n",
       "                Drain_RANGE\n",
       "            </td>\n",
       "        </tr>\n",
       "    \n",
       "        <tr style=\"background-color: hsl(120, 100.00%, 96.35%); border: none;\">\n",
       "            <td style=\"padding: 0 1em 0 0.5em; text-align: right; border: none;\">\n",
       "                0.0097\n",
       "                \n",
       "                    &plusmn; 0.0036\n",
       "                \n",
       "            </td>\n",
       "            <td style=\"padding: 0 0.5em 0 0.5em; text-align: left; border: none;\">\n",
       "                Fault_MEAN\n",
       "            </td>\n",
       "        </tr>\n",
       "    \n",
       "        <tr style=\"background-color: hsl(120, 100.00%, 96.38%); border: none;\">\n",
       "            <td style=\"padding: 0 1em 0 0.5em; text-align: right; border: none;\">\n",
       "                0.0096\n",
       "                \n",
       "                    &plusmn; 0.0019\n",
       "                \n",
       "            </td>\n",
       "            <td style=\"padding: 0 0.5em 0 0.5em; text-align: left; border: none;\">\n",
       "                Mean for Fault_MEAN\n",
       "            </td>\n",
       "        </tr>\n",
       "    \n",
       "        <tr style=\"background-color: hsl(120, 100.00%, 96.52%); border: none;\">\n",
       "            <td style=\"padding: 0 1em 0 0.5em; text-align: right; border: none;\">\n",
       "                0.0090\n",
       "                \n",
       "                    &plusmn; 0.0019\n",
       "                \n",
       "            </td>\n",
       "            <td style=\"padding: 0 0.5em 0 0.5em; text-align: left; border: none;\">\n",
       "                Distance_Faults_STD\n",
       "            </td>\n",
       "        </tr>\n",
       "    \n",
       "        <tr style=\"background-color: hsl(120, 100.00%, 96.53%); border: none;\">\n",
       "            <td style=\"padding: 0 1em 0 0.5em; text-align: right; border: none;\">\n",
       "                0.0090\n",
       "                \n",
       "                    &plusmn; 0.0032\n",
       "                \n",
       "            </td>\n",
       "            <td style=\"padding: 0 0.5em 0 0.5em; text-align: left; border: none;\">\n",
       "                Drain_MIN\n",
       "            </td>\n",
       "        </tr>\n",
       "    \n",
       "        <tr style=\"background-color: hsl(120, 100.00%, 96.60%); border: none;\">\n",
       "            <td style=\"padding: 0 1em 0 0.5em; text-align: right; border: none;\">\n",
       "                0.0087\n",
       "                \n",
       "                    &plusmn; 0.0036\n",
       "                \n",
       "            </td>\n",
       "            <td style=\"padding: 0 0.5em 0 0.5em; text-align: left; border: none;\">\n",
       "                Temperature_SUM\n",
       "            </td>\n",
       "        </tr>\n",
       "    \n",
       "        <tr style=\"background-color: hsl(120, 100.00%, 96.66%); border: none;\">\n",
       "            <td style=\"padding: 0 1em 0 0.5em; text-align: right; border: none;\">\n",
       "                0.0085\n",
       "                \n",
       "                    &plusmn; 0.0037\n",
       "                \n",
       "            </td>\n",
       "            <td style=\"padding: 0 0.5em 0 0.5em; text-align: left; border: none;\">\n",
       "                Mean_Drain_MEAN\n",
       "            </td>\n",
       "        </tr>\n",
       "    \n",
       "        <tr style=\"background-color: hsl(120, 100.00%, 96.79%); border: none;\">\n",
       "            <td style=\"padding: 0 1em 0 0.5em; text-align: right; border: none;\">\n",
       "                0.0081\n",
       "                \n",
       "                    &plusmn; 0.0029\n",
       "                \n",
       "            </td>\n",
       "            <td style=\"padding: 0 0.5em 0 0.5em; text-align: left; border: none;\">\n",
       "                Temperature_RANGE\n",
       "            </td>\n",
       "        </tr>\n",
       "    \n",
       "        <tr style=\"background-color: hsl(120, 100.00%, 96.95%); border: none;\">\n",
       "            <td style=\"padding: 0 1em 0 0.5em; text-align: right; border: none;\">\n",
       "                0.0075\n",
       "                \n",
       "                    &plusmn; 0.0029\n",
       "                \n",
       "            </td>\n",
       "            <td style=\"padding: 0 0.5em 0 0.5em; text-align: left; border: none;\">\n",
       "                Mean_Distance_Faults_MEAN\n",
       "            </td>\n",
       "        </tr>\n",
       "    \n",
       "        <tr style=\"background-color: hsl(120, 100.00%, 97.29%); border: none;\">\n",
       "            <td style=\"padding: 0 1em 0 0.5em; text-align: right; border: none;\">\n",
       "                0.0063\n",
       "                \n",
       "                    &plusmn; 0.0018\n",
       "                \n",
       "            </td>\n",
       "            <td style=\"padding: 0 0.5em 0 0.5em; text-align: left; border: none;\">\n",
       "                point_Y\n",
       "            </td>\n",
       "        </tr>\n",
       "    \n",
       "        <tr style=\"background-color: hsl(120, 100.00%, 97.54%); border: none;\">\n",
       "            <td style=\"padding: 0 1em 0 0.5em; text-align: right; border: none;\">\n",
       "                0.0055\n",
       "                \n",
       "                    &plusmn; 0.0013\n",
       "                \n",
       "            </td>\n",
       "            <td style=\"padding: 0 0.5em 0 0.5em; text-align: left; border: none;\">\n",
       "                Drain_MAX\n",
       "            </td>\n",
       "        </tr>\n",
       "    \n",
       "        <tr style=\"background-color: hsl(120, 100.00%, 97.56%); border: none;\">\n",
       "            <td style=\"padding: 0 1em 0 0.5em; text-align: right; border: none;\">\n",
       "                0.0054\n",
       "                \n",
       "                    &plusmn; 0.0018\n",
       "                \n",
       "            </td>\n",
       "            <td style=\"padding: 0 0.5em 0 0.5em; text-align: left; border: none;\">\n",
       "                Drain_MEAN\n",
       "            </td>\n",
       "        </tr>\n",
       "    \n",
       "        <tr style=\"background-color: hsl(120, 100.00%, 97.60%); border: none;\">\n",
       "            <td style=\"padding: 0 1em 0 0.5em; text-align: right; border: none;\">\n",
       "                0.0053\n",
       "                \n",
       "                    &plusmn; 0.0025\n",
       "                \n",
       "            </td>\n",
       "            <td style=\"padding: 0 0.5em 0 0.5em; text-align: left; border: none;\">\n",
       "                Soil_Siliceous_loamy\n",
       "            </td>\n",
       "        </tr>\n",
       "    \n",
       "        <tr style=\"background-color: hsl(120, 100.00%, 97.83%); border: none;\">\n",
       "            <td style=\"padding: 0 1em 0 0.5em; text-align: right; border: none;\">\n",
       "                0.0046\n",
       "                \n",
       "                    &plusmn; 0.0016\n",
       "                \n",
       "            </td>\n",
       "            <td style=\"padding: 0 0.5em 0 0.5em; text-align: left; border: none;\">\n",
       "                QFD_MEAN\n",
       "            </td>\n",
       "        </tr>\n",
       "    \n",
       "        <tr style=\"background-color: hsl(120, 100.00%, 97.86%); border: none;\">\n",
       "            <td style=\"padding: 0 1em 0 0.5em; text-align: right; border: none;\">\n",
       "                0.0045\n",
       "                \n",
       "                    &plusmn; 0.0030\n",
       "                \n",
       "            </td>\n",
       "            <td style=\"padding: 0 0.5em 0 0.5em; text-align: left; border: none;\">\n",
       "                MAX_ONEHOT_Descricao1_Faixa_Piritosa\n",
       "            </td>\n",
       "        </tr>\n",
       "    \n",
       "        <tr style=\"background-color: hsl(120, 100.00%, 97.92%); border: none;\">\n",
       "            <td style=\"padding: 0 1em 0 0.5em; text-align: right; border: none;\">\n",
       "                0.0043\n",
       "                \n",
       "                    &plusmn; 0.0011\n",
       "                \n",
       "            </td>\n",
       "            <td style=\"padding: 0 0.5em 0 0.5em; text-align: left; border: none;\">\n",
       "                Mean_Fault_MEAN\n",
       "            </td>\n",
       "        </tr>\n",
       "    \n",
       "        <tr style=\"background-color: hsl(120, 100.00%, 97.97%); border: none;\">\n",
       "            <td style=\"padding: 0 1em 0 0.5em; text-align: right; border: none;\">\n",
       "                0.0042\n",
       "                \n",
       "                    &plusmn; 0.0019\n",
       "                \n",
       "            </td>\n",
       "            <td style=\"padding: 0 0.5em 0 0.5em; text-align: left; border: none;\">\n",
       "                QFD_MIN\n",
       "            </td>\n",
       "        </tr>\n",
       "    \n",
       "    \n",
       "        \n",
       "            <tr style=\"background-color: hsl(120, 100.00%, 97.97%); border: none;\">\n",
       "                <td colspan=\"2\" style=\"padding: 0 0.5em 0 0.5em; text-align: center; border: none; white-space: nowrap;\">\n",
       "                    <i>&hellip; 203 more &hellip;</i>\n",
       "                </td>\n",
       "            </tr>\n",
       "        \n",
       "    \n",
       "    </tbody>\n",
       "</table>\n",
       "    \n",
       "\n",
       "    \n",
       "\n",
       "\n",
       "    \n",
       "\n",
       "    \n",
       "\n",
       "    \n",
       "\n",
       "    \n",
       "\n",
       "    \n",
       "\n",
       "    \n",
       "\n",
       "\n",
       "\n"
      ],
      "text/plain": [
       "<IPython.core.display.HTML object>"
      ]
     },
     "execution_count": 156,
     "metadata": {},
     "output_type": "execute_result"
    }
   ],
   "source": [
    "import eli5\n",
    "from eli5.sklearn import PermutationImportance\n",
    "\n",
    "perm = PermutationImportance(Regressor, random_state=1).fit(X, Y)\n",
    "eli5.show_weights(perm, feature_names = X.columns.tolist(), top=40)"
   ]
  },
  {
   "cell_type": "code",
   "execution_count": null,
   "id": "0a06ba13",
   "metadata": {},
   "outputs": [],
   "source": []
  },
  {
   "cell_type": "markdown",
   "id": "28332f16",
   "metadata": {},
   "source": [
    "## SelectFromModel"
   ]
  },
  {
   "cell_type": "code",
   "execution_count": 80,
   "id": "c42b53b4",
   "metadata": {},
   "outputs": [
    {
     "name": "stderr",
     "output_type": "stream",
     "text": [
      "C:\\Users\\mathe\\anaconda3\\envs\\Teste_Tensor\\lib\\site-packages\\sklearn\\base.py:438: UserWarning: X has feature names, but SelectFromModel was fitted without feature names\n",
      "  warnings.warn(\n"
     ]
    }
   ],
   "source": [
    "model = SelectFromModel(Regressor, prefit=True)\n",
    "X_new = model.transform(X)"
   ]
  },
  {
   "cell_type": "code",
   "execution_count": 81,
   "id": "c8f510a6",
   "metadata": {},
   "outputs": [
    {
     "data": {
      "text/plain": [
       "(114, 52)"
      ]
     },
     "execution_count": 81,
     "metadata": {},
     "output_type": "execute_result"
    }
   ],
   "source": [
    "X_new.shape"
   ]
  },
  {
   "cell_type": "code",
   "execution_count": 82,
   "id": "2d64b22b",
   "metadata": {},
   "outputs": [],
   "source": [
    "Regressor_new = RandomForestRegressor(criterion='absolute_error', max_depth=5, min_samples_leaf=2, min_samples_split=2,\n",
    "                                  n_estimators=100, random_state=2)\n",
    "Regressor_new.fit(X_new, Y)\n",
    "predict_new = Regressor_new.predict(X_new)"
   ]
  },
  {
   "cell_type": "markdown",
   "id": "2e6f0d66",
   "metadata": {},
   "source": [
    "### K fold CV"
   ]
  },
  {
   "cell_type": "code",
   "execution_count": 83,
   "id": "ae76760c",
   "metadata": {},
   "outputs": [
    {
     "name": "stdout",
     "output_type": "stream",
     "text": [
      "Avg accuracy: 0.04512467835522431\n"
     ]
    }
   ],
   "source": [
    "k = 5\n",
    "kf = KFold(n_splits=k)\n",
    " \n",
    "result = cross_val_score(Regressor_new , X_new, Y, cv = kf, scoring='r2')\n",
    " \n",
    "print(\"Avg accuracy: {}\".format(result.mean()))"
   ]
  },
  {
   "cell_type": "code",
   "execution_count": 47,
   "id": "8c41eb0b",
   "metadata": {},
   "outputs": [
    {
     "name": "stdout",
     "output_type": "stream",
     "text": [
      "Avg accuracy: -4.234510884328992\n"
     ]
    }
   ],
   "source": [
    "k = 5\n",
    "kf = KFold(n_splits=k)\n",
    " \n",
    "result = cross_val_score(Regressor_new , X_new, Y, cv = kf, scoring='neg_mean_absolute_error')\n",
    " \n",
    "print(\"Avg accuracy: {}\".format(result.mean()))"
   ]
  },
  {
   "cell_type": "code",
   "execution_count": 48,
   "id": "e247e829",
   "metadata": {},
   "outputs": [
    {
     "name": "stdout",
     "output_type": "stream",
     "text": [
      "Avg accuracy: -29.773037719986625\n"
     ]
    },
    {
     "data": {
      "text/plain": [
       "5.456467512959884"
      ]
     },
     "execution_count": 48,
     "metadata": {},
     "output_type": "execute_result"
    }
   ],
   "source": [
    "k = 5\n",
    "kf = KFold(n_splits=k)\n",
    " \n",
    "result = cross_val_score(Regressor_new , X_new, Y, cv = kf, scoring='neg_mean_squared_error')\n",
    " \n",
    "print(\"Avg accuracy: {}\".format(result.mean()))\n",
    "rmse = math.sqrt(-result.mean())\n",
    "rmse"
   ]
  },
  {
   "cell_type": "code",
   "execution_count": null,
   "id": "b6eb806c",
   "metadata": {},
   "outputs": [],
   "source": []
  },
  {
   "cell_type": "markdown",
   "id": "2346237e",
   "metadata": {},
   "source": [
    "### Grid Search CV"
   ]
  },
  {
   "cell_type": "code",
   "execution_count": 32,
   "id": "d96a0ee2",
   "metadata": {},
   "outputs": [
    {
     "data": {
      "text/plain": [
       "GridSearchCV(cv=5,\n",
       "             estimator=RandomForestRegressor(criterion='absolute_error',\n",
       "                                             max_depth=12, min_samples_leaf=2,\n",
       "                                             random_state=2),\n",
       "             param_grid={'criterion': ['absolute_error', 'squared_error'],\n",
       "                         'max_depth': [5, 8, 10, 12, 15],\n",
       "                         'min_samples_leaf': [1, 2],\n",
       "                         'min_samples_split': [2, 3],\n",
       "                         'n_estimators': [100, 200, 250, 500],\n",
       "                         'random_state': [2, 3, 4]})"
      ]
     },
     "execution_count": 32,
     "metadata": {},
     "output_type": "execute_result"
    }
   ],
   "source": [
    "rf_grid = GridSearchCV(estimator=Regressor_new, param_grid=param_grid, cv=5)\n",
    "rf_grid.fit(X_new, Y)"
   ]
  },
  {
   "cell_type": "code",
   "execution_count": 33,
   "id": "96cffdca",
   "metadata": {},
   "outputs": [
    {
     "data": {
      "text/plain": [
       "{'criterion': 'absolute_error',\n",
       " 'max_depth': 5,\n",
       " 'min_samples_leaf': 2,\n",
       " 'min_samples_split': 2,\n",
       " 'n_estimators': 100,\n",
       " 'random_state': 2}"
      ]
     },
     "execution_count": 33,
     "metadata": {},
     "output_type": "execute_result"
    }
   ],
   "source": [
    "rf_grid.best_params_"
   ]
  },
  {
   "cell_type": "code",
   "execution_count": null,
   "id": "d12e9014",
   "metadata": {},
   "outputs": [],
   "source": []
  },
  {
   "cell_type": "code",
   "execution_count": null,
   "id": "ce5ff11b",
   "metadata": {},
   "outputs": [],
   "source": []
  },
  {
   "cell_type": "markdown",
   "id": "16fabdc5",
   "metadata": {},
   "source": [
    "## Predicting Full data"
   ]
  },
  {
   "cell_type": "code",
   "execution_count": 175,
   "id": "caf446f0",
   "metadata": {},
   "outputs": [
    {
     "data": {
      "text/plain": [
       "(14810, 244)"
      ]
     },
     "execution_count": 175,
     "metadata": {},
     "output_type": "execute_result"
    }
   ],
   "source": [
    "full_data = pd.read_csv(\"Table_25x25_Final.csv\")\n",
    "X_full = (full_data.drop([\"gridcode\", \"Shape_Length\", \"Shape_Area\", \"HFD\", \"Grad_Geot\", \"Count of Points\" ], axis=1))\n",
    "Y_full = (full_data[\"Grad_Geot\"])\n",
    "X_full.shape"
   ]
  },
  {
   "cell_type": "code",
   "execution_count": 176,
   "id": "113980d3",
   "metadata": {},
   "outputs": [
    {
     "name": "stderr",
     "output_type": "stream",
     "text": [
      "C:\\Users\\mathe\\anaconda3\\envs\\Teste_Tensor\\lib\\site-packages\\sklearn\\base.py:438: UserWarning: X has feature names, but SelectFromModel was fitted without feature names\n",
      "  warnings.warn(\n"
     ]
    }
   ],
   "source": [
    "X_full = model2.transform(X_full)"
   ]
  },
  {
   "cell_type": "code",
   "execution_count": 177,
   "id": "1b7a6ddf",
   "metadata": {},
   "outputs": [
    {
     "data": {
      "text/plain": [
       "array([57.35306102, 53.55647003, 59.43514134, ..., 61.56141343,\n",
       "       56.7767103 , 61.90545871])"
      ]
     },
     "execution_count": 177,
     "metadata": {},
     "output_type": "execute_result"
    }
   ],
   "source": [
    "predict_full = Regressor_new2.predict(X_full)\n",
    "predict_full"
   ]
  },
  {
   "cell_type": "code",
   "execution_count": 178,
   "id": "4c3e2eb1",
   "metadata": {},
   "outputs": [
    {
     "data": {
      "text/html": [
       "<div>\n",
       "<style scoped>\n",
       "    .dataframe tbody tr th:only-of-type {\n",
       "        vertical-align: middle;\n",
       "    }\n",
       "\n",
       "    .dataframe tbody tr th {\n",
       "        vertical-align: top;\n",
       "    }\n",
       "\n",
       "    .dataframe thead th {\n",
       "        text-align: right;\n",
       "    }\n",
       "</style>\n",
       "<table border=\"1\" class=\"dataframe\">\n",
       "  <thead>\n",
       "    <tr style=\"text-align: right;\">\n",
       "      <th></th>\n",
       "      <th>0</th>\n",
       "    </tr>\n",
       "  </thead>\n",
       "  <tbody>\n",
       "    <tr>\n",
       "      <th>count</th>\n",
       "      <td>14810.000000</td>\n",
       "    </tr>\n",
       "    <tr>\n",
       "      <th>mean</th>\n",
       "      <td>61.842610</td>\n",
       "    </tr>\n",
       "    <tr>\n",
       "      <th>std</th>\n",
       "      <td>7.668943</td>\n",
       "    </tr>\n",
       "    <tr>\n",
       "      <th>min</th>\n",
       "      <td>29.562700</td>\n",
       "    </tr>\n",
       "    <tr>\n",
       "      <th>25%</th>\n",
       "      <td>56.911251</td>\n",
       "    </tr>\n",
       "    <tr>\n",
       "      <th>50%</th>\n",
       "      <td>61.969959</td>\n",
       "    </tr>\n",
       "    <tr>\n",
       "      <th>75%</th>\n",
       "      <td>66.268201</td>\n",
       "    </tr>\n",
       "    <tr>\n",
       "      <th>max</th>\n",
       "      <td>102.699313</td>\n",
       "    </tr>\n",
       "  </tbody>\n",
       "</table>\n",
       "</div>"
      ],
      "text/plain": [
       "                  0\n",
       "count  14810.000000\n",
       "mean      61.842610\n",
       "std        7.668943\n",
       "min       29.562700\n",
       "25%       56.911251\n",
       "50%       61.969959\n",
       "75%       66.268201\n",
       "max      102.699313"
      ]
     },
     "execution_count": 178,
     "metadata": {},
     "output_type": "execute_result"
    }
   ],
   "source": [
    "predict_full = pd.DataFrame(predict_full)\n",
    "predict_full.describe()"
   ]
  },
  {
   "cell_type": "code",
   "execution_count": 179,
   "id": "e3725be8",
   "metadata": {},
   "outputs": [],
   "source": [
    "prediction = pd.DataFrame(predict_full).to_excel(\"RF_25x25_Selected_outliersout_hfd.xlsx\")"
   ]
  },
  {
   "cell_type": "code",
   "execution_count": null,
   "id": "9a390f8d",
   "metadata": {},
   "outputs": [],
   "source": []
  },
  {
   "cell_type": "code",
   "execution_count": null,
   "id": "d7981b55",
   "metadata": {},
   "outputs": [],
   "source": []
  },
  {
   "cell_type": "markdown",
   "id": "6a818609",
   "metadata": {},
   "source": [
    "# Model - Heat flux density"
   ]
  },
  {
   "cell_type": "code",
   "execution_count": 155,
   "id": "5117fff7",
   "metadata": {},
   "outputs": [],
   "source": [
    "selected_rows = dataset[~dataset[\"Grad_Geot\"].isnull()]"
   ]
  },
  {
   "cell_type": "code",
   "execution_count": 156,
   "id": "cf4756a7",
   "metadata": {},
   "outputs": [],
   "source": [
    "XX = pd.DataFrame((selected_rows.drop([\"gridcode\", \"Shape_Length\", \"Shape_Area\", \"HFD\", \"Grad_Geot\", \"Count of Points\"], axis=1)))\n",
    "YY = (selected_rows[\"HFD\"])"
   ]
  },
  {
   "cell_type": "code",
   "execution_count": 157,
   "id": "5902a6f4",
   "metadata": {},
   "outputs": [
    {
     "name": "stdout",
     "output_type": "stream",
     "text": [
      "Identified outliers: 2\n",
      "Non-outlier observations: 115\n",
      "[183.84, 139.5]\n"
     ]
    }
   ],
   "source": [
    "YY_mean, YY_std = mean(YY), std(YY)\n",
    "# identify outliers\n",
    "cut_off = YY_std * 3\n",
    "lower, upper = YY_mean - cut_off, YY_mean + cut_off\n",
    "# identify outliers\n",
    "outliers = [x for x in YY if x < lower or x > upper]\n",
    "print('Identified outliers: %d' % len(outliers))\n",
    "# remove outliers\n",
    "outliers_removed = [x for x in YY if x >= lower and x <= upper]\n",
    "print('Non-outlier observations: %d' % len(outliers_removed))\n",
    "print(outliers)"
   ]
  },
  {
   "cell_type": "code",
   "execution_count": 158,
   "id": "515fa2ec",
   "metadata": {},
   "outputs": [],
   "source": [
    "selected_rows = dataset[~dataset[\"HFD\"].isnull()]"
   ]
  },
  {
   "cell_type": "code",
   "execution_count": 159,
   "id": "b0e993e1",
   "metadata": {},
   "outputs": [],
   "source": [
    "FinalData = selected_rows[~selected_rows['HFD'].isin(outliers)]"
   ]
  },
  {
   "cell_type": "code",
   "execution_count": 160,
   "id": "a653b85a",
   "metadata": {},
   "outputs": [],
   "source": [
    "XX = pd.DataFrame((FinalData.drop([\"gridcode\", \"Shape_Length\", \"Shape_Area\", \"HFD\", \"Grad_Geot\", \"Count of Points\" ], axis=1)))\n",
    "YY = (FinalData[\"HFD\"])"
   ]
  },
  {
   "cell_type": "code",
   "execution_count": 161,
   "id": "dc995c2d",
   "metadata": {},
   "outputs": [
    {
     "data": {
      "text/plain": [
       "(115,)"
      ]
     },
     "execution_count": 161,
     "metadata": {},
     "output_type": "execute_result"
    }
   ],
   "source": [
    "YY.shape"
   ]
  },
  {
   "cell_type": "code",
   "execution_count": 162,
   "id": "203979ac",
   "metadata": {},
   "outputs": [
    {
     "data": {
      "text/plain": [
       "count    115.000000\n",
       "mean      62.150376\n",
       "std       18.538075\n",
       "min       25.000000\n",
       "25%       50.332900\n",
       "50%       60.000000\n",
       "75%       73.306000\n",
       "max      114.863000\n",
       "Name: HFD, dtype: float64"
      ]
     },
     "execution_count": 162,
     "metadata": {},
     "output_type": "execute_result"
    }
   ],
   "source": [
    "YY.describe()"
   ]
  },
  {
   "cell_type": "code",
   "execution_count": 163,
   "id": "66ee23fe",
   "metadata": {},
   "outputs": [],
   "source": [
    "Regressor2 = RandomForestRegressor(criterion='absolute_error', max_depth=15, min_samples_leaf=2, min_samples_split=2,\n",
    "                                  n_estimators=100, random_state=4)\n",
    "Regressor2.fit(XX, YY)\n",
    "pred_Regressor = Regressor2.predict(XX)"
   ]
  },
  {
   "cell_type": "code",
   "execution_count": 165,
   "id": "4d5a3576",
   "metadata": {},
   "outputs": [
    {
     "name": "stdout",
     "output_type": "stream",
     "text": [
      "0.22363973838246407\n"
     ]
    }
   ],
   "source": [
    "k = 5\n",
    "kf = KFold(n_splits=k)\n",
    "result = cross_val_score(Regressor2 , XX, YY, cv = kf)\n",
    "print (result.mean())"
   ]
  },
  {
   "cell_type": "code",
   "execution_count": 166,
   "id": "88f7a2cf",
   "metadata": {},
   "outputs": [
    {
     "name": "stdout",
     "output_type": "stream",
     "text": [
      "-13.060064679710143\n"
     ]
    }
   ],
   "source": [
    "k = 5\n",
    "kf = KFold(n_splits=k)\n",
    "result = cross_val_score(Regressor2 , XX, YY, cv = kf, scoring='neg_mean_absolute_error')\n",
    "print (result.mean())"
   ]
  },
  {
   "cell_type": "code",
   "execution_count": 167,
   "id": "6c933078",
   "metadata": {},
   "outputs": [
    {
     "name": "stdout",
     "output_type": "stream",
     "text": [
      "-260.27156350432364\n"
     ]
    },
    {
     "data": {
      "text/plain": [
       "16.132934125704587"
      ]
     },
     "execution_count": 167,
     "metadata": {},
     "output_type": "execute_result"
    }
   ],
   "source": [
    "k = 5\n",
    "kf = KFold(n_splits=k)\n",
    "result = cross_val_score(Regressor2 , XX, YY, cv = kf, scoring='neg_mean_squared_error')\n",
    "print (result.mean())\n",
    "rmse = math.sqrt(-result.mean())\n",
    "rmse"
   ]
  },
  {
   "cell_type": "code",
   "execution_count": null,
   "id": "d2b0a188",
   "metadata": {},
   "outputs": [],
   "source": []
  },
  {
   "cell_type": "code",
   "execution_count": null,
   "id": "0706d23e",
   "metadata": {},
   "outputs": [],
   "source": [
    "rf_grid = GridSearchCV(estimator=Regressor2, param_grid=param_grid, cv=5)\n",
    "rf_grid.fit(XX, YY)"
   ]
  },
  {
   "cell_type": "code",
   "execution_count": 89,
   "id": "168ac427",
   "metadata": {},
   "outputs": [
    {
     "data": {
      "text/plain": [
       "{'criterion': 'absolute_error',\n",
       " 'max_depth': 15,\n",
       " 'min_samples_leaf': 2,\n",
       " 'min_samples_split': 2,\n",
       " 'n_estimators': 100,\n",
       " 'random_state': 4}"
      ]
     },
     "execution_count": 89,
     "metadata": {},
     "output_type": "execute_result"
    }
   ],
   "source": [
    "rf_grid.best_params_"
   ]
  },
  {
   "cell_type": "code",
   "execution_count": null,
   "id": "3b5483e2",
   "metadata": {},
   "outputs": [],
   "source": []
  },
  {
   "cell_type": "markdown",
   "id": "44791be3",
   "metadata": {},
   "source": [
    "### Select from model "
   ]
  },
  {
   "cell_type": "code",
   "execution_count": 168,
   "id": "19cbbcd4",
   "metadata": {},
   "outputs": [
    {
     "name": "stderr",
     "output_type": "stream",
     "text": [
      "C:\\Users\\mathe\\anaconda3\\envs\\Teste_Tensor\\lib\\site-packages\\sklearn\\base.py:438: UserWarning: X has feature names, but SelectFromModel was fitted without feature names\n",
      "  warnings.warn(\n"
     ]
    }
   ],
   "source": [
    "model2 = SelectFromModel(Regressor2, prefit=True)\n",
    "X_new2 = model2.transform(XX)"
   ]
  },
  {
   "cell_type": "code",
   "execution_count": 169,
   "id": "4477fb0f",
   "metadata": {},
   "outputs": [
    {
     "data": {
      "text/plain": [
       "(115, 68)"
      ]
     },
     "execution_count": 169,
     "metadata": {},
     "output_type": "execute_result"
    }
   ],
   "source": [
    "X_new2.shape"
   ]
  },
  {
   "cell_type": "code",
   "execution_count": 170,
   "id": "3ee93d72",
   "metadata": {},
   "outputs": [],
   "source": [
    "Regressor_new2 = RandomForestRegressor(criterion='squared_error', max_depth=10, min_samples_leaf=1, min_samples_split=2,\n",
    "                                  n_estimators=100, random_state=3)\n",
    "Regressor_new2.fit(X_new2, YY)\n",
    "predict_new2 = Regressor_new2.predict(X_new2)"
   ]
  },
  {
   "cell_type": "code",
   "execution_count": 171,
   "id": "387874a6",
   "metadata": {},
   "outputs": [
    {
     "name": "stdout",
     "output_type": "stream",
     "text": [
      "                                         Feature_names  Importances\n",
      "3                                              point_Y     0.078364\n",
      "1                                                   Id     0.050768\n",
      "243                     Mean for Distance_QAFaults_STD     0.037057\n",
      "115                                Distance_Faults_STD     0.032206\n",
      "165               MAX_ONEHOT_Descricao1_Faixa_Piritosa     0.031704\n",
      "..                                                 ...          ...\n",
      "129  MAX_ONEHOT_Descricao1_Complexo_Xisto_Grauv_qui...     0.000395\n",
      "88                       ONEHOT_Zona_Rochas_filonianas     0.000384\n",
      "49                                      ZonaSeismic_03     0.000315\n",
      "109                     ONEHOT_Nome_Bacia_do_Tejo_Sado     0.000304\n",
      "151  MAX_ONEHOT_Descricao1_Dep_sitos_paleog_nicos_d...     0.000267\n",
      "\n",
      "[120 rows x 2 columns]\n"
     ]
    }
   ],
   "source": [
    "df = pd.DataFrame({'Feature_names' : XX.columns, 'Importances' : Regressor2.feature_importances_})\n",
    "\n",
    "print(df.sort_values(by='Importances', ascending=False).nlargest(120, 'Importances'))"
   ]
  },
  {
   "cell_type": "code",
   "execution_count": 172,
   "id": "94c4c553",
   "metadata": {},
   "outputs": [
    {
     "name": "stdout",
     "output_type": "stream",
     "text": [
      "Avg accuracy: 0.23181970188969983\n"
     ]
    }
   ],
   "source": [
    "k = 5\n",
    "kf2 = KFold(n_splits=k)\n",
    " \n",
    "result = cross_val_score(Regressor_new2 , X_new2, YY, cv = kf2)\n",
    " \n",
    "print(\"Avg accuracy: {}\".format(result.mean()))"
   ]
  },
  {
   "cell_type": "code",
   "execution_count": 173,
   "id": "f791fefd",
   "metadata": {},
   "outputs": [
    {
     "name": "stdout",
     "output_type": "stream",
     "text": [
      "Avg accuracy: -12.92838858602525\n"
     ]
    }
   ],
   "source": [
    "k = 5\n",
    "kf2 = KFold(n_splits=k)\n",
    " \n",
    "result = cross_val_score(Regressor_new2 , X_new2, YY, cv = kf2, scoring='neg_mean_absolute_error')\n",
    " \n",
    "print(\"Avg accuracy: {}\".format(result.mean()))"
   ]
  },
  {
   "cell_type": "code",
   "execution_count": 174,
   "id": "dbc4a5e4",
   "metadata": {},
   "outputs": [
    {
     "name": "stdout",
     "output_type": "stream",
     "text": [
      "Avg accuracy: -259.059936424189\n"
     ]
    },
    {
     "data": {
      "text/plain": [
       "16.095338965805876"
      ]
     },
     "execution_count": 174,
     "metadata": {},
     "output_type": "execute_result"
    }
   ],
   "source": [
    "k = 5\n",
    "kf2 = KFold(n_splits=k)\n",
    " \n",
    "result = cross_val_score(Regressor_new2 , X_new2, YY, cv = kf2, scoring='neg_mean_squared_error')\n",
    " \n",
    "print(\"Avg accuracy: {}\".format(result.mean()))\n",
    "rmse = math.sqrt(-result.mean())\n",
    "rmse"
   ]
  },
  {
   "cell_type": "code",
   "execution_count": null,
   "id": "1c8c25c0",
   "metadata": {},
   "outputs": [],
   "source": []
  },
  {
   "cell_type": "code",
   "execution_count": null,
   "id": "19a14a5a",
   "metadata": {},
   "outputs": [],
   "source": []
  },
  {
   "cell_type": "code",
   "execution_count": 140,
   "id": "670e580a",
   "metadata": {
    "scrolled": true
   },
   "outputs": [
    {
     "data": {
      "text/plain": [
       "GridSearchCV(cv=5, estimator=RandomForestRegressor(random_state=1),\n",
       "             param_grid={'criterion': ['absolute_error', 'squared_error'],\n",
       "                         'max_depth': [5, 8, 10, 12, 15],\n",
       "                         'min_samples_leaf': [1, 2],\n",
       "                         'min_samples_split': [2, 3],\n",
       "                         'n_estimators': [100, 200, 250, 500],\n",
       "                         'random_state': [2, 3, 4]})"
      ]
     },
     "execution_count": 140,
     "metadata": {},
     "output_type": "execute_result"
    }
   ],
   "source": [
    "rf_grid = GridSearchCV(estimator=Regressor_new2, param_grid=param_grid, cv=5)\n",
    "rf_grid.fit(X_new2, YY)"
   ]
  },
  {
   "cell_type": "code",
   "execution_count": 141,
   "id": "eb42943e",
   "metadata": {},
   "outputs": [
    {
     "data": {
      "text/plain": [
       "{'criterion': 'squared_error',\n",
       " 'max_depth': 10,\n",
       " 'min_samples_leaf': 1,\n",
       " 'min_samples_split': 2,\n",
       " 'n_estimators': 100,\n",
       " 'random_state': 3}"
      ]
     },
     "execution_count": 141,
     "metadata": {},
     "output_type": "execute_result"
    }
   ],
   "source": [
    "rf_grid.best_params_"
   ]
  },
  {
   "cell_type": "code",
   "execution_count": null,
   "id": "6ddce8ea",
   "metadata": {},
   "outputs": [],
   "source": []
  },
  {
   "cell_type": "markdown",
   "id": "04e0b3f3",
   "metadata": {},
   "source": [
    "## Saved codes"
   ]
  },
  {
   "cell_type": "markdown",
   "id": "784650d2",
   "metadata": {},
   "source": [
    "n_estimators_range = range(10,1000)\n",
    "n_est_scores = []\n",
    "for n in n_estimators_range: \n",
    "    rf = RandomForestRegressor(n_estimators= n, random_state=2, min_samples_leaf=3)\n",
    "    scores = cross_val_score(rf, X, Y, cv=5)\n",
    "    n_est_scores.append(scores.mean())"
   ]
  },
  {
   "cell_type": "markdown",
   "id": "05c9867e",
   "metadata": {},
   "source": [
    "%matplotlib inline\n",
    "plt.plot(n_estimators_range, n_est_scores)"
   ]
  }
 ],
 "metadata": {
  "kernelspec": {
   "display_name": "Python 3",
   "language": "python",
   "name": "python3"
  },
  "language_info": {
   "codemirror_mode": {
    "name": "ipython",
    "version": 3
   },
   "file_extension": ".py",
   "mimetype": "text/x-python",
   "name": "python",
   "nbconvert_exporter": "python",
   "pygments_lexer": "ipython3",
   "version": "3.8.8"
  }
 },
 "nbformat": 4,
 "nbformat_minor": 5
}
