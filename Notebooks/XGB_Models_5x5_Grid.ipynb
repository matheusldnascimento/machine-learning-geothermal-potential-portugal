{
 "cells": [
  {
   "cell_type": "markdown",
   "id": "b8df2384",
   "metadata": {},
   "source": [
    "# <center>XGB for 5 X 5 GRID <center> "
   ]
  },
  {
   "cell_type": "markdown",
   "id": "3b099eaf",
   "metadata": {},
   "source": [
    "## All Imports "
   ]
  },
  {
   "cell_type": "code",
   "execution_count": 19,
   "id": "08094cf6",
   "metadata": {},
   "outputs": [],
   "source": [
    "import pandas as pd\n",
    "import numpy as np\n",
    "import matplotlib.pyplot as plt\n",
    "from sklearn.preprocessing import StandardScaler, MinMaxScaler\n",
    "from sklearn.ensemble import RandomForestRegressor\n",
    "from sklearn.ensemble import GradientBoostingRegressor\n",
    "from xgboost import XGBRegressor\n",
    "from sklearn.model_selection import train_test_split\n",
    "from sklearn.model_selection import cross_val_score\n",
    "from sklearn.model_selection import KFold\n",
    "from sklearn.model_selection import GridSearchCV\n",
    "from sklearn.metrics import mean_squared_error\n",
    "from sklearn.metrics import mean_absolute_error\n",
    "from sklearn.metrics import r2_score\n",
    "from sklearn.feature_selection import SelectFromModel\n",
    "from sklearn.feature_selection import SelectKBest\n",
    "from sklearn.feature_selection import f_regression\n",
    "from sklearn.decomposition import PCA\n",
    "import math\n",
    "from numpy import mean\n",
    "from numpy import std"
   ]
  },
  {
   "cell_type": "markdown",
   "id": "9c7baf9d",
   "metadata": {},
   "source": [
    "## Reading and Transforming data"
   ]
  },
  {
   "cell_type": "code",
   "execution_count": 20,
   "id": "2fdb0953",
   "metadata": {},
   "outputs": [
    {
     "name": "stdout",
     "output_type": "stream",
     "text": [
      "OBJECTID                         int64\n",
      "gridcode                         int64\n",
      "Bouguer_MEAN                   float64\n",
      "Fault_COUNT                      int64\n",
      "Fault_MIN                      float64\n",
      "                                ...   \n",
      "Mean_Distance_Faults_STD       float64\n",
      "Mean_Distance_QAFaults_MEAN    float64\n",
      "Mean_Distance_QAFaults_STD     float64\n",
      "Distance_QAFaults_MEAN         float64\n",
      "Distance_QAFaults_STD          float64\n",
      "Length: 248, dtype: object\n"
     ]
    }
   ],
   "source": [
    "dataset = pd.read_csv(\"Table_5X5_Final.csv\")\n",
    "dataTypeSeries = dataset.dtypes\n",
    "dataset = dataset.sample(frac=1, random_state=2)\n",
    "print(dataTypeSeries)"
   ]
  },
  {
   "cell_type": "code",
   "execution_count": 21,
   "id": "ba33e91f",
   "metadata": {},
   "outputs": [],
   "source": [
    "selected_rows = dataset[~dataset[\"Grad_Geot\"].isnull()]"
   ]
  },
  {
   "cell_type": "code",
   "execution_count": 22,
   "id": "01d1f2fc",
   "metadata": {},
   "outputs": [],
   "source": [
    "X = (selected_rows.drop([\"gridcode\", \"Shape_Length\", \"Shape_Area\", \"HFD\", \"Grad_Geot\", \"Count of Points\"], axis=1))\n",
    "Y = (selected_rows[\"Grad_Geot\"])"
   ]
  },
  {
   "cell_type": "code",
   "execution_count": null,
   "id": "f5b9bc9d",
   "metadata": {},
   "outputs": [],
   "source": []
  },
  {
   "cell_type": "code",
   "execution_count": 23,
   "id": "3be3cddc",
   "metadata": {},
   "outputs": [
    {
     "name": "stdout",
     "output_type": "stream",
     "text": [
      "Identified outliers: 2\n",
      "Non-outlier observations: 107\n",
      "[48.0, 42.0]\n"
     ]
    }
   ],
   "source": [
    "Y_mean, Y_std = mean(Y), std(Y)\n",
    "# identify outliers\n",
    "cut_off = Y_std * 3\n",
    "lower, upper = Y_mean - cut_off, Y_mean + cut_off\n",
    "# identify outliers\n",
    "outliers = [x for x in Y if x < lower or x > upper]\n",
    "print('Identified outliers: %d' % len(outliers))\n",
    "# remove outliers\n",
    "outliers_removed = [x for x in Y if x >= lower and x <= upper]\n",
    "print('Non-outlier observations: %d' % len(outliers_removed))\n",
    "print(outliers)"
   ]
  },
  {
   "cell_type": "code",
   "execution_count": null,
   "id": "3112d365",
   "metadata": {},
   "outputs": [],
   "source": []
  },
  {
   "cell_type": "code",
   "execution_count": 52,
   "id": "3ad86308",
   "metadata": {},
   "outputs": [],
   "source": [
    "selected_rows = dataset[~dataset[\"Grad_Geot\"].isnull()]"
   ]
  },
  {
   "cell_type": "code",
   "execution_count": 53,
   "id": "5b6f3b63",
   "metadata": {},
   "outputs": [],
   "source": [
    "FinalData = selected_rows[~selected_rows['Grad_Geot'].isin(outliers)]"
   ]
  },
  {
   "cell_type": "code",
   "execution_count": 54,
   "id": "5f74e9f0",
   "metadata": {},
   "outputs": [],
   "source": [
    "X = pd.DataFrame((FinalData.drop([\"gridcode\", \"Shape_Length\", \"Shape_Area\", \"HFD\", \"Grad_Geot\", \"Count of Points\" ], axis=1)))\n",
    "Y = (FinalData[\"Grad_Geot\"])"
   ]
  },
  {
   "cell_type": "code",
   "execution_count": 55,
   "id": "3759b96f",
   "metadata": {},
   "outputs": [
    {
     "data": {
      "text/plain": [
       "(107,)"
      ]
     },
     "execution_count": 55,
     "metadata": {},
     "output_type": "execute_result"
    }
   ],
   "source": [
    "Y.shape"
   ]
  },
  {
   "cell_type": "code",
   "execution_count": 56,
   "id": "ec021ad5",
   "metadata": {},
   "outputs": [
    {
     "data": {
      "text/plain": [
       "count    107.000000\n",
       "mean      21.572968\n",
       "std        5.274973\n",
       "min       10.448200\n",
       "25%       17.381743\n",
       "50%       20.600000\n",
       "75%       24.512500\n",
       "max       37.000000\n",
       "Name: Grad_Geot, dtype: float64"
      ]
     },
     "execution_count": 56,
     "metadata": {},
     "output_type": "execute_result"
    }
   ],
   "source": [
    "Y.describe()"
   ]
  },
  {
   "cell_type": "code",
   "execution_count": null,
   "id": "297151b0",
   "metadata": {},
   "outputs": [],
   "source": []
  },
  {
   "cell_type": "code",
   "execution_count": null,
   "id": "14022dc0",
   "metadata": {},
   "outputs": [],
   "source": []
  },
  {
   "cell_type": "markdown",
   "id": "19772f35",
   "metadata": {},
   "source": [
    "## Model - Geothermal Gradient "
   ]
  },
  {
   "cell_type": "code",
   "execution_count": 57,
   "id": "1b9559b9",
   "metadata": {},
   "outputs": [],
   "source": [
    "Regressor = XGBRegressor(gamma=10,\n",
    " learning_rate=0.1, max_depth=15, n_estimators=500, random_state=2, reg_lambda=10)\n",
    "Regressor.fit(X, Y)\n",
    "pred_Regressor = Regressor.predict(X)"
   ]
  },
  {
   "cell_type": "code",
   "execution_count": null,
   "id": "1fdb278c",
   "metadata": {},
   "outputs": [],
   "source": []
  },
  {
   "cell_type": "markdown",
   "id": "c3105500",
   "metadata": {},
   "source": [
    "## K fold CV"
   ]
  },
  {
   "cell_type": "code",
   "execution_count": 58,
   "id": "1979c334",
   "metadata": {},
   "outputs": [
    {
     "name": "stdout",
     "output_type": "stream",
     "text": [
      "Avg accuracy: 0.14861505029999378\n"
     ]
    }
   ],
   "source": [
    "k = 5\n",
    "kf = KFold(n_splits=k)\n",
    " \n",
    "result = cross_val_score(Regressor , X, Y, cv = kf)\n",
    " \n",
    "print(\"Avg accuracy: {}\".format(result.mean()))"
   ]
  },
  {
   "cell_type": "code",
   "execution_count": 31,
   "id": "97d929c0",
   "metadata": {},
   "outputs": [
    {
     "name": "stdout",
     "output_type": "stream",
     "text": [
      "-3.7879589917757834\n"
     ]
    }
   ],
   "source": [
    "k = 5\n",
    "kf = KFold(n_splits=k)\n",
    "result = cross_val_score(Regressor , X, Y, cv = kf, scoring='neg_mean_absolute_error')\n",
    "print (result.mean())"
   ]
  },
  {
   "cell_type": "code",
   "execution_count": 32,
   "id": "6ed95950",
   "metadata": {},
   "outputs": [
    {
     "name": "stdout",
     "output_type": "stream",
     "text": [
      "-23.163680747112434\n"
     ]
    },
    {
     "data": {
      "text/plain": [
       "4.81286616758792"
      ]
     },
     "execution_count": 32,
     "metadata": {},
     "output_type": "execute_result"
    }
   ],
   "source": [
    "k = 5\n",
    "kf = KFold(n_splits=k)\n",
    "result = cross_val_score(Regressor , X, Y, cv = kf, scoring='neg_mean_squared_error')\n",
    "print (result.mean())\n",
    "rmse = math.sqrt(-result.mean())\n",
    "rmse"
   ]
  },
  {
   "cell_type": "code",
   "execution_count": null,
   "id": "0ae2dda0",
   "metadata": {},
   "outputs": [],
   "source": []
  },
  {
   "cell_type": "markdown",
   "id": "cdfc49b1",
   "metadata": {},
   "source": [
    "### Assessing features correlation and importances "
   ]
  },
  {
   "cell_type": "code",
   "execution_count": 33,
   "id": "55e06977",
   "metadata": {},
   "outputs": [
    {
     "name": "stderr",
     "output_type": "stream",
     "text": [
      "C:\\Users\\mathe\\anaconda3\\envs\\Teste_Tensor\\lib\\site-packages\\sklearn\\feature_selection\\_univariate_selection.py:289: RuntimeWarning: divide by zero encountered in true_divide\n",
      "  correlation_coefficient /= X_norms\n",
      "C:\\Users\\mathe\\anaconda3\\envs\\Teste_Tensor\\lib\\site-packages\\sklearn\\feature_selection\\_univariate_selection.py:289: RuntimeWarning: invalid value encountered in true_divide\n",
      "  correlation_coefficient /= X_norms\n",
      "C:\\Users\\mathe\\anaconda3\\envs\\Teste_Tensor\\lib\\site-packages\\sklearn\\feature_selection\\_univariate_selection.py:358: RuntimeWarning: invalid value encountered in true_divide\n",
      "  f_statistic = corr_coef_squared / (1 - corr_coef_squared) * deg_of_freedom\n"
     ]
    },
    {
     "name": "stdout",
     "output_type": "stream",
     "text": [
      "                                              Variable     Scores\n",
      "239                         Mean_Distance_QAFaults_STD  13.439664\n",
      "234                                     Mean_Drain_STD  11.657323\n",
      "227                                    Mean_Fault_MEAN  11.465879\n",
      "59                                Soil_Siliceous_light  11.448007\n",
      "230                                     Mean_Elevation  11.389316\n",
      "..                                                 ...        ...\n",
      "64                             ONEHOT_Sistema_C_mbrico   1.554974\n",
      "138  MAX_ONEHOT_Descricao1_Cret_cico_Superior_da_Or...   1.539519\n",
      "156  MAX_ONEHOT_Descricao1_Dep_sitos_paleog_nicos_d...   1.505654\n",
      "142  MAX_ONEHOT_Descricao1_Dep_sitos_de_cobertura_d...   1.462202\n",
      "57                             Soil_Intermediate_loamy   1.455201\n",
      "\n",
      "[100 rows x 2 columns]\n"
     ]
    }
   ],
   "source": [
    "BestFeatures = SelectKBest(score_func=f_regression, k=110)\n",
    "fit = BestFeatures.fit(X, Y)\n",
    "dfscores = pd.DataFrame(fit.scores_)\n",
    "dfcolumns = pd.DataFrame(X.columns)\n",
    "FeatureScores = pd.concat([dfcolumns, dfscores], axis=1)\n",
    "FeatureScores.columns = ['Variable', 'Scores']\n",
    "print(FeatureScores.nlargest(100, 'Scores'))"
   ]
  },
  {
   "cell_type": "code",
   "execution_count": 34,
   "id": "82b55a97",
   "metadata": {},
   "outputs": [
    {
     "data": {
      "text/html": [
       "\n",
       "    <style>\n",
       "    table.eli5-weights tr:hover {\n",
       "        filter: brightness(85%);\n",
       "    }\n",
       "</style>\n",
       "\n",
       "\n",
       "\n",
       "    \n",
       "\n",
       "    \n",
       "\n",
       "    \n",
       "\n",
       "    \n",
       "\n",
       "    \n",
       "\n",
       "    \n",
       "\n",
       "\n",
       "    \n",
       "\n",
       "    \n",
       "\n",
       "    \n",
       "\n",
       "    \n",
       "\n",
       "    \n",
       "\n",
       "    \n",
       "\n",
       "\n",
       "    \n",
       "\n",
       "    \n",
       "\n",
       "    \n",
       "\n",
       "    \n",
       "\n",
       "    \n",
       "        <table class=\"eli5-weights eli5-feature-importances\" style=\"border-collapse: collapse; border: none; margin-top: 0em; table-layout: auto;\">\n",
       "    <thead>\n",
       "    <tr style=\"border: none;\">\n",
       "        <th style=\"padding: 0 1em 0 0.5em; text-align: right; border: none;\">Weight</th>\n",
       "        <th style=\"padding: 0 0.5em 0 0.5em; text-align: left; border: none;\">Feature</th>\n",
       "    </tr>\n",
       "    </thead>\n",
       "    <tbody>\n",
       "    \n",
       "        <tr style=\"background-color: hsl(120, 100.00%, 80.00%); border: none;\">\n",
       "            <td style=\"padding: 0 1em 0 0.5em; text-align: right; border: none;\">\n",
       "                0.2135\n",
       "                \n",
       "                    &plusmn; 0.0663\n",
       "                \n",
       "            </td>\n",
       "            <td style=\"padding: 0 0.5em 0 0.5em; text-align: left; border: none;\">\n",
       "                Mean_Distance_QAFaults_STD\n",
       "            </td>\n",
       "        </tr>\n",
       "    \n",
       "        <tr style=\"background-color: hsl(120, 100.00%, 86.15%); border: none;\">\n",
       "            <td style=\"padding: 0 1em 0 0.5em; text-align: right; border: none;\">\n",
       "                0.1264\n",
       "                \n",
       "                    &plusmn; 0.0284\n",
       "                \n",
       "            </td>\n",
       "            <td style=\"padding: 0 0.5em 0 0.5em; text-align: left; border: none;\">\n",
       "                Mean_Fault_STD\n",
       "            </td>\n",
       "        </tr>\n",
       "    \n",
       "        <tr style=\"background-color: hsl(120, 100.00%, 87.77%); border: none;\">\n",
       "            <td style=\"padding: 0 1em 0 0.5em; text-align: right; border: none;\">\n",
       "                0.1057\n",
       "                \n",
       "                    &plusmn; 0.0594\n",
       "                \n",
       "            </td>\n",
       "            <td style=\"padding: 0 0.5em 0 0.5em; text-align: left; border: none;\">\n",
       "                MAX_ONEHOT_Descricao1_Dev_nico_do_Bordo_Sudoeste\n",
       "            </td>\n",
       "        </tr>\n",
       "    \n",
       "        <tr style=\"background-color: hsl(120, 100.00%, 88.37%); border: none;\">\n",
       "            <td style=\"padding: 0 1em 0 0.5em; text-align: right; border: none;\">\n",
       "                0.0984\n",
       "                \n",
       "                    &plusmn; 0.0336\n",
       "                \n",
       "            </td>\n",
       "            <td style=\"padding: 0 0.5em 0 0.5em; text-align: left; border: none;\">\n",
       "                MAX_ONEHOT_Descricao1_Rochas_magm_ticas_intrusivas__granit_ides_rel1\n",
       "            </td>\n",
       "        </tr>\n",
       "    \n",
       "        <tr style=\"background-color: hsl(120, 100.00%, 89.83%); border: none;\">\n",
       "            <td style=\"padding: 0 1em 0 0.5em; text-align: right; border: none;\">\n",
       "                0.0812\n",
       "                \n",
       "                    &plusmn; 0.0125\n",
       "                \n",
       "            </td>\n",
       "            <td style=\"padding: 0 0.5em 0 0.5em; text-align: left; border: none;\">\n",
       "                Mean_Drain_STD\n",
       "            </td>\n",
       "        </tr>\n",
       "    \n",
       "        <tr style=\"background-color: hsl(120, 100.00%, 89.99%); border: none;\">\n",
       "            <td style=\"padding: 0 1em 0 0.5em; text-align: right; border: none;\">\n",
       "                0.0794\n",
       "                \n",
       "                    &plusmn; 0.0463\n",
       "                \n",
       "            </td>\n",
       "            <td style=\"padding: 0 0.5em 0 0.5em; text-align: left; border: none;\">\n",
       "                Distance_QAFaults_STD\n",
       "            </td>\n",
       "        </tr>\n",
       "    \n",
       "        <tr style=\"background-color: hsl(120, 100.00%, 92.71%); border: none;\">\n",
       "            <td style=\"padding: 0 1em 0 0.5em; text-align: right; border: none;\">\n",
       "                0.0505\n",
       "                \n",
       "                    &plusmn; 0.0237\n",
       "                \n",
       "            </td>\n",
       "            <td style=\"padding: 0 0.5em 0 0.5em; text-align: left; border: none;\">\n",
       "                Bouguer_MEAN\n",
       "            </td>\n",
       "        </tr>\n",
       "    \n",
       "        <tr style=\"background-color: hsl(120, 100.00%, 92.89%); border: none;\">\n",
       "            <td style=\"padding: 0 1em 0 0.5em; text-align: right; border: none;\">\n",
       "                0.0487\n",
       "                \n",
       "                    &plusmn; 0.0161\n",
       "                \n",
       "            </td>\n",
       "            <td style=\"padding: 0 0.5em 0 0.5em; text-align: left; border: none;\">\n",
       "                Fault_RANGE\n",
       "            </td>\n",
       "        </tr>\n",
       "    \n",
       "        <tr style=\"background-color: hsl(120, 100.00%, 94.02%); border: none;\">\n",
       "            <td style=\"padding: 0 1em 0 0.5em; text-align: right; border: none;\">\n",
       "                0.0381\n",
       "                \n",
       "                    &plusmn; 0.0174\n",
       "                \n",
       "            </td>\n",
       "            <td style=\"padding: 0 0.5em 0 0.5em; text-align: left; border: none;\">\n",
       "                Mean_Elevation\n",
       "            </td>\n",
       "        </tr>\n",
       "    \n",
       "        <tr style=\"background-color: hsl(120, 100.00%, 94.34%); border: none;\">\n",
       "            <td style=\"padding: 0 1em 0 0.5em; text-align: right; border: none;\">\n",
       "                0.0352\n",
       "                \n",
       "                    &plusmn; 0.0263\n",
       "                \n",
       "            </td>\n",
       "            <td style=\"padding: 0 0.5em 0 0.5em; text-align: left; border: none;\">\n",
       "                Temperature_MAX\n",
       "            </td>\n",
       "        </tr>\n",
       "    \n",
       "        <tr style=\"background-color: hsl(120, 100.00%, 95.06%); border: none;\">\n",
       "            <td style=\"padding: 0 1em 0 0.5em; text-align: right; border: none;\">\n",
       "                0.0290\n",
       "                \n",
       "                    &plusmn; 0.0133\n",
       "                \n",
       "            </td>\n",
       "            <td style=\"padding: 0 0.5em 0 0.5em; text-align: left; border: none;\">\n",
       "                MAX_ONEHOT_Descricao1_Rochas_magm_ticas_intrusivas_do_Maci_o_de__vo\n",
       "            </td>\n",
       "        </tr>\n",
       "    \n",
       "        <tr style=\"background-color: hsl(120, 100.00%, 95.59%); border: none;\">\n",
       "            <td style=\"padding: 0 1em 0 0.5em; text-align: right; border: none;\">\n",
       "                0.0247\n",
       "                \n",
       "                    &plusmn; 0.0264\n",
       "                \n",
       "            </td>\n",
       "            <td style=\"padding: 0 0.5em 0 0.5em; text-align: left; border: none;\">\n",
       "                ONEHOT_Sistema_C_mbrico_Ordov_cico2\n",
       "            </td>\n",
       "        </tr>\n",
       "    \n",
       "        <tr style=\"background-color: hsl(120, 100.00%, 95.79%); border: none;\">\n",
       "            <td style=\"padding: 0 1em 0 0.5em; text-align: right; border: none;\">\n",
       "                0.0230\n",
       "                \n",
       "                    &plusmn; 0.0119\n",
       "                \n",
       "            </td>\n",
       "            <td style=\"padding: 0 0.5em 0 0.5em; text-align: left; border: none;\">\n",
       "                OBJECTID\n",
       "            </td>\n",
       "        </tr>\n",
       "    \n",
       "        <tr style=\"background-color: hsl(120, 100.00%, 96.06%); border: none;\">\n",
       "            <td style=\"padding: 0 1em 0 0.5em; text-align: right; border: none;\">\n",
       "                0.0210\n",
       "                \n",
       "                    &plusmn; 0.0084\n",
       "                \n",
       "            </td>\n",
       "            <td style=\"padding: 0 0.5em 0 0.5em; text-align: left; border: none;\">\n",
       "                Drain_RANGE\n",
       "            </td>\n",
       "        </tr>\n",
       "    \n",
       "        <tr style=\"background-color: hsl(120, 100.00%, 96.10%); border: none;\">\n",
       "            <td style=\"padding: 0 1em 0 0.5em; text-align: right; border: none;\">\n",
       "                0.0206\n",
       "                \n",
       "                    &plusmn; 0.0132\n",
       "                \n",
       "            </td>\n",
       "            <td style=\"padding: 0 0.5em 0 0.5em; text-align: left; border: none;\">\n",
       "                Mean_Temperature_MEAN\n",
       "            </td>\n",
       "        </tr>\n",
       "    \n",
       "        <tr style=\"background-color: hsl(120, 100.00%, 96.25%); border: none;\">\n",
       "            <td style=\"padding: 0 1em 0 0.5em; text-align: right; border: none;\">\n",
       "                0.0196\n",
       "                \n",
       "                    &plusmn; 0.0080\n",
       "                \n",
       "            </td>\n",
       "            <td style=\"padding: 0 0.5em 0 0.5em; text-align: left; border: none;\">\n",
       "                Fault_MIN\n",
       "            </td>\n",
       "        </tr>\n",
       "    \n",
       "        <tr style=\"background-color: hsl(120, 100.00%, 96.26%); border: none;\">\n",
       "            <td style=\"padding: 0 1em 0 0.5em; text-align: right; border: none;\">\n",
       "                0.0194\n",
       "                \n",
       "                    &plusmn; 0.0202\n",
       "                \n",
       "            </td>\n",
       "            <td style=\"padding: 0 0.5em 0 0.5em; text-align: left; border: none;\">\n",
       "                MAX_ONEHOT_Descricao1_Cret_cico_Superior_da_Orla_Ocidental\n",
       "            </td>\n",
       "        </tr>\n",
       "    \n",
       "        <tr style=\"background-color: hsl(120, 100.00%, 96.61%); border: none;\">\n",
       "            <td style=\"padding: 0 1em 0 0.5em; text-align: right; border: none;\">\n",
       "                0.0169\n",
       "                \n",
       "                    &plusmn; 0.0051\n",
       "                \n",
       "            </td>\n",
       "            <td style=\"padding: 0 0.5em 0 0.5em; text-align: left; border: none;\">\n",
       "                Mean_Distance_Faults_STD\n",
       "            </td>\n",
       "        </tr>\n",
       "    \n",
       "        <tr style=\"background-color: hsl(120, 100.00%, 97.07%); border: none;\">\n",
       "            <td style=\"padding: 0 1em 0 0.5em; text-align: right; border: none;\">\n",
       "                0.0137\n",
       "                \n",
       "                    &plusmn; 0.0124\n",
       "                \n",
       "            </td>\n",
       "            <td style=\"padding: 0 0.5em 0 0.5em; text-align: left; border: none;\">\n",
       "                Distance_Faults_STD\n",
       "            </td>\n",
       "        </tr>\n",
       "    \n",
       "        <tr style=\"background-color: hsl(120, 100.00%, 97.26%); border: none;\">\n",
       "            <td style=\"padding: 0 1em 0 0.5em; text-align: right; border: none;\">\n",
       "                0.0124\n",
       "                \n",
       "                    &plusmn; 0.0040\n",
       "                \n",
       "            </td>\n",
       "            <td style=\"padding: 0 0.5em 0 0.5em; text-align: left; border: none;\">\n",
       "                Mean_Temperature_STD\n",
       "            </td>\n",
       "        </tr>\n",
       "    \n",
       "        <tr style=\"background-color: hsl(120, 100.00%, 97.62%); border: none;\">\n",
       "            <td style=\"padding: 0 1em 0 0.5em; text-align: right; border: none;\">\n",
       "                0.0102\n",
       "                \n",
       "                    &plusmn; 0.0083\n",
       "                \n",
       "            </td>\n",
       "            <td style=\"padding: 0 0.5em 0 0.5em; text-align: left; border: none;\">\n",
       "                Temperature_RANGE\n",
       "            </td>\n",
       "        </tr>\n",
       "    \n",
       "        <tr style=\"background-color: hsl(120, 100.00%, 97.76%); border: none;\">\n",
       "            <td style=\"padding: 0 1em 0 0.5em; text-align: right; border: none;\">\n",
       "                0.0093\n",
       "                \n",
       "                    &plusmn; 0.0137\n",
       "                \n",
       "            </td>\n",
       "            <td style=\"padding: 0 0.5em 0 0.5em; text-align: left; border: none;\">\n",
       "                Temperature_MEAN\n",
       "            </td>\n",
       "        </tr>\n",
       "    \n",
       "        <tr style=\"background-color: hsl(120, 100.00%, 97.77%); border: none;\">\n",
       "            <td style=\"padding: 0 1em 0 0.5em; text-align: right; border: none;\">\n",
       "                0.0093\n",
       "                \n",
       "                    &plusmn; 0.0052\n",
       "                \n",
       "            </td>\n",
       "            <td style=\"padding: 0 0.5em 0 0.5em; text-align: left; border: none;\">\n",
       "                QF_RANGE\n",
       "            </td>\n",
       "        </tr>\n",
       "    \n",
       "        <tr style=\"background-color: hsl(120, 100.00%, 97.85%); border: none;\">\n",
       "            <td style=\"padding: 0 1em 0 0.5em; text-align: right; border: none;\">\n",
       "                0.0088\n",
       "                \n",
       "                    &plusmn; 0.0104\n",
       "                \n",
       "            </td>\n",
       "            <td style=\"padding: 0 0.5em 0 0.5em; text-align: left; border: none;\">\n",
       "                ONEHOT_Sistema_Ordov_cico_Sil_rico2\n",
       "            </td>\n",
       "        </tr>\n",
       "    \n",
       "        <tr style=\"background-color: hsl(120, 100.00%, 98.11%); border: none;\">\n",
       "            <td style=\"padding: 0 1em 0 0.5em; text-align: right; border: none;\">\n",
       "                0.0073\n",
       "                \n",
       "                    &plusmn; 0.0035\n",
       "                \n",
       "            </td>\n",
       "            <td style=\"padding: 0 0.5em 0 0.5em; text-align: left; border: none;\">\n",
       "                PermClasses_2\n",
       "            </td>\n",
       "        </tr>\n",
       "    \n",
       "        <tr style=\"background-color: hsl(120, 100.00%, 98.42%); border: none;\">\n",
       "            <td style=\"padding: 0 1em 0 0.5em; text-align: right; border: none;\">\n",
       "                0.0057\n",
       "                \n",
       "                    &plusmn; 0.0022\n",
       "                \n",
       "            </td>\n",
       "            <td style=\"padding: 0 0.5em 0 0.5em; text-align: left; border: none;\">\n",
       "                Temperature_MIN\n",
       "            </td>\n",
       "        </tr>\n",
       "    \n",
       "        <tr style=\"background-color: hsl(120, 100.00%, 98.46%); border: none;\">\n",
       "            <td style=\"padding: 0 1em 0 0.5em; text-align: right; border: none;\">\n",
       "                0.0055\n",
       "                \n",
       "                    &plusmn; 0.0025\n",
       "                \n",
       "            </td>\n",
       "            <td style=\"padding: 0 0.5em 0 0.5em; text-align: left; border: none;\">\n",
       "                Drain_STD\n",
       "            </td>\n",
       "        </tr>\n",
       "    \n",
       "        <tr style=\"background-color: hsl(120, 100.00%, 98.47%); border: none;\">\n",
       "            <td style=\"padding: 0 1em 0 0.5em; text-align: right; border: none;\">\n",
       "                0.0054\n",
       "                \n",
       "                    &plusmn; 0.0035\n",
       "                \n",
       "            </td>\n",
       "            <td style=\"padding: 0 0.5em 0 0.5em; text-align: left; border: none;\">\n",
       "                Fault_COUNT\n",
       "            </td>\n",
       "        </tr>\n",
       "    \n",
       "        <tr style=\"background-color: hsl(120, 100.00%, 98.51%); border: none;\">\n",
       "            <td style=\"padding: 0 1em 0 0.5em; text-align: right; border: none;\">\n",
       "                0.0052\n",
       "                \n",
       "                    &plusmn; 0.0044\n",
       "                \n",
       "            </td>\n",
       "            <td style=\"padding: 0 0.5em 0 0.5em; text-align: left; border: none;\">\n",
       "                SlopeClass_5\n",
       "            </td>\n",
       "        </tr>\n",
       "    \n",
       "        <tr style=\"background-color: hsl(120, 100.00%, 98.51%); border: none;\">\n",
       "            <td style=\"padding: 0 1em 0 0.5em; text-align: right; border: none;\">\n",
       "                0.0052\n",
       "                \n",
       "                    &plusmn; 0.0019\n",
       "                \n",
       "            </td>\n",
       "            <td style=\"padding: 0 0.5em 0 0.5em; text-align: left; border: none;\">\n",
       "                ONEHOT_Eratema_Cenoz_ico\n",
       "            </td>\n",
       "        </tr>\n",
       "    \n",
       "        <tr style=\"background-color: hsl(120, 100.00%, 98.59%); border: none;\">\n",
       "            <td style=\"padding: 0 1em 0 0.5em; text-align: right; border: none;\">\n",
       "                0.0048\n",
       "                \n",
       "                    &plusmn; 0.0019\n",
       "                \n",
       "            </td>\n",
       "            <td style=\"padding: 0 0.5em 0 0.5em; text-align: left; border: none;\">\n",
       "                Fault_SUM\n",
       "            </td>\n",
       "        </tr>\n",
       "    \n",
       "        <tr style=\"background-color: hsl(120, 100.00%, 98.64%); border: none;\">\n",
       "            <td style=\"padding: 0 1em 0 0.5em; text-align: right; border: none;\">\n",
       "                0.0046\n",
       "                \n",
       "                    &plusmn; 0.0023\n",
       "                \n",
       "            </td>\n",
       "            <td style=\"padding: 0 0.5em 0 0.5em; text-align: left; border: none;\">\n",
       "                Fault_STD\n",
       "            </td>\n",
       "        </tr>\n",
       "    \n",
       "        <tr style=\"background-color: hsl(120, 100.00%, 98.66%); border: none;\">\n",
       "            <td style=\"padding: 0 1em 0 0.5em; text-align: right; border: none;\">\n",
       "                0.0045\n",
       "                \n",
       "                    &plusmn; 0.0028\n",
       "                \n",
       "            </td>\n",
       "            <td style=\"padding: 0 0.5em 0 0.5em; text-align: left; border: none;\">\n",
       "                Drain_MIN\n",
       "            </td>\n",
       "        </tr>\n",
       "    \n",
       "        <tr style=\"background-color: hsl(120, 100.00%, 98.77%); border: none;\">\n",
       "            <td style=\"padding: 0 1em 0 0.5em; text-align: right; border: none;\">\n",
       "                0.0040\n",
       "                \n",
       "                    &plusmn; 0.0030\n",
       "                \n",
       "            </td>\n",
       "            <td style=\"padding: 0 0.5em 0 0.5em; text-align: left; border: none;\">\n",
       "                Elevation\n",
       "            </td>\n",
       "        </tr>\n",
       "    \n",
       "        <tr style=\"background-color: hsl(120, 100.00%, 98.92%); border: none;\">\n",
       "            <td style=\"padding: 0 1em 0 0.5em; text-align: right; border: none;\">\n",
       "                0.0033\n",
       "                \n",
       "                    &plusmn; 0.0023\n",
       "                \n",
       "            </td>\n",
       "            <td style=\"padding: 0 0.5em 0 0.5em; text-align: left; border: none;\">\n",
       "                Texture_2\n",
       "            </td>\n",
       "        </tr>\n",
       "    \n",
       "        <tr style=\"background-color: hsl(120, 100.00%, 98.93%); border: none;\">\n",
       "            <td style=\"padding: 0 1em 0 0.5em; text-align: right; border: none;\">\n",
       "                0.0033\n",
       "                \n",
       "                    &plusmn; 0.0013\n",
       "                \n",
       "            </td>\n",
       "            <td style=\"padding: 0 0.5em 0 0.5em; text-align: left; border: none;\">\n",
       "                ZonaSeismic_02\n",
       "            </td>\n",
       "        </tr>\n",
       "    \n",
       "        <tr style=\"background-color: hsl(120, 100.00%, 98.99%); border: none;\">\n",
       "            <td style=\"padding: 0 1em 0 0.5em; text-align: right; border: none;\">\n",
       "                0.0030\n",
       "                \n",
       "                    &plusmn; 0.0011\n",
       "                \n",
       "            </td>\n",
       "            <td style=\"padding: 0 0.5em 0 0.5em; text-align: left; border: none;\">\n",
       "                Distance_Faults_MEAN\n",
       "            </td>\n",
       "        </tr>\n",
       "    \n",
       "        <tr style=\"background-color: hsl(120, 100.00%, 99.03%); border: none;\">\n",
       "            <td style=\"padding: 0 1em 0 0.5em; text-align: right; border: none;\">\n",
       "                0.0028\n",
       "                \n",
       "                    &plusmn; 0.0017\n",
       "                \n",
       "            </td>\n",
       "            <td style=\"padding: 0 0.5em 0 0.5em; text-align: left; border: none;\">\n",
       "                point_Y\n",
       "            </td>\n",
       "        </tr>\n",
       "    \n",
       "        <tr style=\"background-color: hsl(120, 100.00%, 99.08%); border: none;\">\n",
       "            <td style=\"padding: 0 1em 0 0.5em; text-align: right; border: none;\">\n",
       "                0.0026\n",
       "                \n",
       "                    &plusmn; 0.0013\n",
       "                \n",
       "            </td>\n",
       "            <td style=\"padding: 0 0.5em 0 0.5em; text-align: left; border: none;\">\n",
       "                Drain_SUM\n",
       "            </td>\n",
       "        </tr>\n",
       "    \n",
       "        <tr style=\"background-color: hsl(120, 100.00%, 99.17%); border: none;\">\n",
       "            <td style=\"padding: 0 1em 0 0.5em; text-align: right; border: none;\">\n",
       "                0.0022\n",
       "                \n",
       "                    &plusmn; 0.0014\n",
       "                \n",
       "            </td>\n",
       "            <td style=\"padding: 0 0.5em 0 0.5em; text-align: left; border: none;\">\n",
       "                Fault_MAX\n",
       "            </td>\n",
       "        </tr>\n",
       "    \n",
       "    \n",
       "        \n",
       "            <tr style=\"background-color: hsl(120, 100.00%, 99.17%); border: none;\">\n",
       "                <td colspan=\"2\" style=\"padding: 0 0.5em 0 0.5em; text-align: center; border: none; white-space: nowrap;\">\n",
       "                    <i>&hellip; 202 more &hellip;</i>\n",
       "                </td>\n",
       "            </tr>\n",
       "        \n",
       "    \n",
       "    </tbody>\n",
       "</table>\n",
       "    \n",
       "\n",
       "    \n",
       "\n",
       "\n",
       "    \n",
       "\n",
       "    \n",
       "\n",
       "    \n",
       "\n",
       "    \n",
       "\n",
       "    \n",
       "\n",
       "    \n",
       "\n",
       "\n",
       "\n"
      ],
      "text/plain": [
       "<IPython.core.display.HTML object>"
      ]
     },
     "execution_count": 34,
     "metadata": {},
     "output_type": "execute_result"
    }
   ],
   "source": [
    "import eli5\n",
    "from eli5.sklearn import PermutationImportance\n",
    "\n",
    "perm = PermutationImportance(Regressor, random_state=1).fit(X, Y)\n",
    "eli5.show_weights(perm, feature_names = X.columns.tolist(), top=40)"
   ]
  },
  {
   "cell_type": "code",
   "execution_count": null,
   "id": "f7e2a1df",
   "metadata": {},
   "outputs": [],
   "source": []
  },
  {
   "cell_type": "markdown",
   "id": "07680c64",
   "metadata": {},
   "source": [
    "## Grid Search CV - Finding best hyperparameters with cv"
   ]
  },
  {
   "cell_type": "code",
   "execution_count": 20,
   "id": "8053b320",
   "metadata": {},
   "outputs": [],
   "source": [
    "n_estimators = [100, 200, 250, 500]\n",
    "learning_rate = [0.01,0.05,0.1,0.2]\n",
    "random_state = [2,3,4]\n",
    "reg_lambda = [0.1,1,10]\n",
    "gamma = [0.1,1,10]\n",
    "max_depth = [5, 8, 10, 12, 15]"
   ]
  },
  {
   "cell_type": "code",
   "execution_count": 21,
   "id": "b8438e5a",
   "metadata": {},
   "outputs": [],
   "source": [
    "param_grid = {'n_estimators' : n_estimators, 'random_state' : random_state,\n",
    "              'gamma' : gamma, 'max_depth' : max_depth, 'learning_rate' : learning_rate, 'reg_lambda' : reg_lambda}"
   ]
  },
  {
   "cell_type": "code",
   "execution_count": 22,
   "id": "25b3e30b",
   "metadata": {},
   "outputs": [
    {
     "data": {
      "text/plain": [
       "GridSearchCV(cv=5,\n",
       "             estimator=XGBRegressor(base_score=0.5, booster='gbtree',\n",
       "                                    colsample_bylevel=1, colsample_bynode=1,\n",
       "                                    colsample_bytree=1,\n",
       "                                    enable_categorical=False, gamma=0,\n",
       "                                    gpu_id=-1, importance_type=None,\n",
       "                                    interaction_constraints='',\n",
       "                                    learning_rate=0.300000012, max_delta_step=0,\n",
       "                                    max_depth=6, min_child_weight=1,\n",
       "                                    missing=nan, monotone_constraints='()',\n",
       "                                    n_estimators=100, n_jobs=4,\n",
       "                                    num_parallel_tree=1, predictor='auto',\n",
       "                                    random_state=0, reg_alpha=0, reg_lambda=1,\n",
       "                                    scale_pos_weight=1, subsample=1,\n",
       "                                    tree_method='exact', validate_parameters=1,\n",
       "                                    verbosity=None),\n",
       "             param_grid={'gamma': [0.1, 1, 10],\n",
       "                         'learning_rate': [0.01, 0.05, 0.1, 0.2],\n",
       "                         'max_depth': [5, 8, 10, 12, 15],\n",
       "                         'n_estimators': [100, 200, 250, 500],\n",
       "                         'random_state': [2, 3, 4],\n",
       "                         'reg_lambda': [0.1, 1, 10]})"
      ]
     },
     "execution_count": 22,
     "metadata": {},
     "output_type": "execute_result"
    }
   ],
   "source": [
    "rf_grid = GridSearchCV(estimator=Regressor, param_grid=param_grid, cv=5)\n",
    "rf_grid.fit(X, Y)"
   ]
  },
  {
   "cell_type": "code",
   "execution_count": 23,
   "id": "e8a95eb1",
   "metadata": {},
   "outputs": [
    {
     "data": {
      "text/plain": [
       "{'gamma': 10,\n",
       " 'learning_rate': 0.1,\n",
       " 'max_depth': 15,\n",
       " 'n_estimators': 500,\n",
       " 'random_state': 2,\n",
       " 'reg_lambda': 10}"
      ]
     },
     "execution_count": 23,
     "metadata": {},
     "output_type": "execute_result"
    }
   ],
   "source": [
    "rf_grid.best_params_"
   ]
  },
  {
   "cell_type": "code",
   "execution_count": null,
   "id": "24caa9da",
   "metadata": {},
   "outputs": [],
   "source": []
  },
  {
   "cell_type": "code",
   "execution_count": null,
   "id": "52f9c164",
   "metadata": {},
   "outputs": [],
   "source": []
  },
  {
   "cell_type": "markdown",
   "id": "1951ec6d",
   "metadata": {},
   "source": [
    "## Select From Model - Geothermal Gradient  "
   ]
  },
  {
   "cell_type": "code",
   "execution_count": 103,
   "id": "32842450",
   "metadata": {},
   "outputs": [
    {
     "name": "stderr",
     "output_type": "stream",
     "text": [
      "C:\\Users\\mathe\\anaconda3\\envs\\Teste_Tensor\\lib\\site-packages\\sklearn\\base.py:438: UserWarning: X has feature names, but SelectFromModel was fitted without feature names\n",
      "  warnings.warn(\n"
     ]
    }
   ],
   "source": [
    "model = SelectFromModel(Regressor, prefit=True)\n",
    "X_new = model.transform(X)"
   ]
  },
  {
   "cell_type": "code",
   "execution_count": 104,
   "id": "f63f9114",
   "metadata": {},
   "outputs": [
    {
     "data": {
      "text/plain": [
       "(107, 45)"
      ]
     },
     "execution_count": 104,
     "metadata": {},
     "output_type": "execute_result"
    }
   ],
   "source": [
    "X_new.shape"
   ]
  },
  {
   "cell_type": "code",
   "execution_count": 37,
   "id": "2c5477f4",
   "metadata": {},
   "outputs": [],
   "source": [
    "Regressor_new = XGBRegressor(gamma=10,\n",
    " learning_rate=0.05, max_depth=12, n_estimators=100, random_state=2, reg_lambda=1)\n",
    "Regressor_new.fit(X_new, Y)\n",
    "predict_new = Regressor_new.predict(X_new)"
   ]
  },
  {
   "cell_type": "code",
   "execution_count": null,
   "id": "1b94670e",
   "metadata": {},
   "outputs": [],
   "source": []
  },
  {
   "cell_type": "code",
   "execution_count": 38,
   "id": "9186fa06",
   "metadata": {},
   "outputs": [
    {
     "name": "stdout",
     "output_type": "stream",
     "text": [
      "Avg accuracy: 0.20434351301806436\n"
     ]
    }
   ],
   "source": [
    "k = 5\n",
    "kf = KFold(n_splits=k)\n",
    " \n",
    "result = cross_val_score(Regressor_new , X_new, Y, cv = kf)\n",
    " \n",
    "print(\"Avg accuracy: {}\".format(result.mean()))"
   ]
  },
  {
   "cell_type": "code",
   "execution_count": 39,
   "id": "b0ca9ca1",
   "metadata": {},
   "outputs": [
    {
     "name": "stdout",
     "output_type": "stream",
     "text": [
      "Avg accuracy: -3.6147668394166814\n"
     ]
    }
   ],
   "source": [
    "k = 5\n",
    "kf = KFold(n_splits=k)\n",
    " \n",
    "result = cross_val_score(Regressor_new , X_new, Y, cv = kf, scoring='neg_mean_absolute_error')\n",
    " \n",
    "print(\"Avg accuracy: {}\".format(result.mean()))"
   ]
  },
  {
   "cell_type": "code",
   "execution_count": 40,
   "id": "498474ba",
   "metadata": {},
   "outputs": [
    {
     "name": "stdout",
     "output_type": "stream",
     "text": [
      "Avg accuracy: -22.83006164205172\n"
     ]
    },
    {
     "data": {
      "text/plain": [
       "4.778081376666969"
      ]
     },
     "execution_count": 40,
     "metadata": {},
     "output_type": "execute_result"
    }
   ],
   "source": [
    "k = 5\n",
    "kf = KFold(n_splits=k)\n",
    " \n",
    "result = cross_val_score(Regressor_new , X_new, Y, cv = kf, scoring='neg_mean_squared_error')\n",
    " \n",
    "print(\"Avg accuracy: {}\".format(result.mean()))\n",
    "rmse = math.sqrt(-result.mean())\n",
    "rmse"
   ]
  },
  {
   "cell_type": "code",
   "execution_count": null,
   "id": "09e1444d",
   "metadata": {},
   "outputs": [],
   "source": []
  },
  {
   "cell_type": "markdown",
   "id": "9940da72",
   "metadata": {},
   "source": [
    "### Grid search for new model "
   ]
  },
  {
   "cell_type": "code",
   "execution_count": 37,
   "id": "bf492173",
   "metadata": {},
   "outputs": [
    {
     "data": {
      "text/plain": [
       "GridSearchCV(cv=5,\n",
       "             estimator=XGBRegressor(base_score=0.5, booster='gbtree',\n",
       "                                    colsample_bylevel=1, colsample_bynode=1,\n",
       "                                    colsample_bytree=1,\n",
       "                                    enable_categorical=False, gamma=0,\n",
       "                                    gpu_id=-1, importance_type=None,\n",
       "                                    interaction_constraints='',\n",
       "                                    learning_rate=0.300000012, max_delta_step=0,\n",
       "                                    max_depth=6, min_child_weight=1,\n",
       "                                    missing=nan, monotone_constraints='()',\n",
       "                                    n_estimators=100, n_jobs=4,\n",
       "                                    num_parallel_tree=1, predictor='auto',\n",
       "                                    random_state=0, reg_alpha=0, reg_lambda=1,\n",
       "                                    scale_pos_weight=1, subsample=1,\n",
       "                                    tree_method='exact', validate_parameters=1,\n",
       "                                    verbosity=None),\n",
       "             param_grid={'gamma': [0.1, 1, 10],\n",
       "                         'learning_rate': [0.01, 0.05, 0.1, 0.2],\n",
       "                         'max_depth': [5, 8, 10, 12, 15],\n",
       "                         'n_estimators': [100, 200, 250, 500],\n",
       "                         'random_state': [2, 3, 4],\n",
       "                         'reg_lambda': [0.1, 1, 10]})"
      ]
     },
     "execution_count": 37,
     "metadata": {},
     "output_type": "execute_result"
    }
   ],
   "source": [
    "rf_grid = GridSearchCV(estimator=Regressor_new, param_grid=param_grid, cv=5)\n",
    "rf_grid.fit(X_new, Y)"
   ]
  },
  {
   "cell_type": "code",
   "execution_count": 38,
   "id": "a28a2ce7",
   "metadata": {},
   "outputs": [
    {
     "data": {
      "text/plain": [
       "{'gamma': 10,\n",
       " 'learning_rate': 0.05,\n",
       " 'max_depth': 12,\n",
       " 'n_estimators': 100,\n",
       " 'random_state': 2,\n",
       " 'reg_lambda': 1}"
      ]
     },
     "execution_count": 38,
     "metadata": {},
     "output_type": "execute_result"
    }
   ],
   "source": [
    "rf_grid.best_params_"
   ]
  },
  {
   "cell_type": "code",
   "execution_count": null,
   "id": "46f70996",
   "metadata": {},
   "outputs": [],
   "source": []
  },
  {
   "cell_type": "code",
   "execution_count": null,
   "id": "337c7b4d",
   "metadata": {},
   "outputs": [],
   "source": []
  },
  {
   "cell_type": "markdown",
   "id": "ce47f496",
   "metadata": {},
   "source": [
    "## Heat flow density"
   ]
  },
  {
   "cell_type": "code",
   "execution_count": 68,
   "id": "66f1cc7f",
   "metadata": {},
   "outputs": [],
   "source": [
    "selected_rows = dataset[~dataset[\"Grad_Geot\"].isnull()]"
   ]
  },
  {
   "cell_type": "code",
   "execution_count": 69,
   "id": "71395835",
   "metadata": {},
   "outputs": [],
   "source": [
    "XX = pd.DataFrame((selected_rows.drop([\"OBJECTID\", \"gridcode\", \"Shape_Length\", \"Shape_Area\", \"HFD\", \"Grad_Geot\", \"Count of Points\"], axis=1)))\n",
    "YY = (selected_rows[\"HFD\"])"
   ]
  },
  {
   "cell_type": "code",
   "execution_count": 70,
   "id": "952c346b",
   "metadata": {},
   "outputs": [
    {
     "name": "stdout",
     "output_type": "stream",
     "text": [
      "Identified outliers: 1\n",
      "Non-outlier observations: 108\n",
      "[183.84]\n"
     ]
    }
   ],
   "source": [
    "YY_mean, YY_std = mean(YY), std(YY)\n",
    "# identify outliers\n",
    "cut_off = YY_std * 3\n",
    "lower, upper = YY_mean - cut_off, YY_mean + cut_off\n",
    "# identify outliers\n",
    "outliers = [x for x in YY if x < lower or x > upper]\n",
    "print('Identified outliers: %d' % len(outliers))\n",
    "# remove outliers\n",
    "outliers_removed = [x for x in YY if x >= lower and x <= upper]\n",
    "print('Non-outlier observations: %d' % len(outliers_removed))\n",
    "print(outliers)"
   ]
  },
  {
   "cell_type": "code",
   "execution_count": 71,
   "id": "1540a9ee",
   "metadata": {},
   "outputs": [],
   "source": [
    "selected_rows = dataset[~dataset[\"HFD\"].isnull()]\n",
    "FinalData = selected_rows[~selected_rows['HFD'].isin(outliers)]"
   ]
  },
  {
   "cell_type": "code",
   "execution_count": 82,
   "id": "e20eb2fa",
   "metadata": {},
   "outputs": [],
   "source": [
    "XX = pd.DataFrame((FinalData.drop([\"OBJECTID\", \"gridcode\", \"Shape_Length\", \"Shape_Area\", \"HFD\", \"Grad_Geot\", \"Count of Points\"], axis=1)))\n",
    "YY = (FinalData[\"HFD\"])"
   ]
  },
  {
   "cell_type": "code",
   "execution_count": 83,
   "id": "015fa6e2",
   "metadata": {},
   "outputs": [
    {
     "data": {
      "text/plain": [
       "(108,)"
      ]
     },
     "execution_count": 83,
     "metadata": {},
     "output_type": "execute_result"
    }
   ],
   "source": [
    "YY.shape"
   ]
  },
  {
   "cell_type": "code",
   "execution_count": 84,
   "id": "20ed89fd",
   "metadata": {},
   "outputs": [
    {
     "data": {
      "text/plain": [
       "count    108.000000\n",
       "mean      62.304904\n",
       "std       18.095066\n",
       "min       25.000000\n",
       "25%       50.441450\n",
       "50%       60.916100\n",
       "75%       72.304250\n",
       "max      116.650000\n",
       "Name: HFD, dtype: float64"
      ]
     },
     "execution_count": 84,
     "metadata": {},
     "output_type": "execute_result"
    }
   ],
   "source": [
    "YY.describe()"
   ]
  },
  {
   "cell_type": "code",
   "execution_count": 85,
   "id": "aa5a52d0",
   "metadata": {},
   "outputs": [],
   "source": [
    "Regressor2 = XGBRegressor(gamma=10,\n",
    " learning_rate=0.1, max_depth=5, n_estimators=200, random_state=2, reg_lambda=0.1)\n",
    "Regressor2.fit(XX, YY)\n",
    "pred_Regressor = Regressor2.predict(XX)"
   ]
  },
  {
   "cell_type": "code",
   "execution_count": 86,
   "id": "33eed85d",
   "metadata": {},
   "outputs": [
    {
     "name": "stdout",
     "output_type": "stream",
     "text": [
      "0.170151417830123\n"
     ]
    }
   ],
   "source": [
    "k = 5\n",
    "kf = KFold(n_splits=k)\n",
    "result = cross_val_score(Regressor2 , XX, YY, cv = kf)\n",
    "print (result.mean())"
   ]
  },
  {
   "cell_type": "code",
   "execution_count": 87,
   "id": "3dbc9fc5",
   "metadata": {},
   "outputs": [
    {
     "name": "stdout",
     "output_type": "stream",
     "text": [
      "-12.268504027405232\n"
     ]
    }
   ],
   "source": [
    "k = 5\n",
    "kf = KFold(n_splits=k)\n",
    "result = cross_val_score(Regressor2 , XX, YY, cv = kf, scoring='neg_mean_absolute_error')\n",
    "print (result.mean())"
   ]
  },
  {
   "cell_type": "code",
   "execution_count": 88,
   "id": "535ccef3",
   "metadata": {},
   "outputs": [
    {
     "name": "stdout",
     "output_type": "stream",
     "text": [
      "-246.84759273469007\n"
     ]
    },
    {
     "data": {
      "text/plain": [
       "15.711384176280907"
      ]
     },
     "execution_count": 88,
     "metadata": {},
     "output_type": "execute_result"
    }
   ],
   "source": [
    "k = 5\n",
    "kf = KFold(n_splits=k)\n",
    "result = cross_val_score(Regressor2 , XX, YY, cv = kf, scoring='neg_mean_squared_error')\n",
    "print (result.mean())\n",
    "rmse = math.sqrt(-result.mean())\n",
    "rmse"
   ]
  },
  {
   "cell_type": "code",
   "execution_count": null,
   "id": "558ec57b",
   "metadata": {},
   "outputs": [],
   "source": []
  },
  {
   "cell_type": "code",
   "execution_count": 56,
   "id": "bf01511a",
   "metadata": {},
   "outputs": [
    {
     "data": {
      "text/plain": [
       "GridSearchCV(cv=5,\n",
       "             estimator=XGBRegressor(base_score=0.5, booster='gbtree',\n",
       "                                    colsample_bylevel=1, colsample_bynode=1,\n",
       "                                    colsample_bytree=1,\n",
       "                                    enable_categorical=False, gamma=0,\n",
       "                                    gpu_id=-1, importance_type=None,\n",
       "                                    interaction_constraints='',\n",
       "                                    learning_rate=0.300000012, max_delta_step=0,\n",
       "                                    max_depth=6, min_child_weight=1,\n",
       "                                    missing=nan, monotone_constraints='()',\n",
       "                                    n_estimators=100, n_jobs=4,\n",
       "                                    num_parallel_tree=1, predictor='auto',\n",
       "                                    random_state=0, reg_alpha=0, reg_lambda=1,\n",
       "                                    scale_pos_weight=1, subsample=1,\n",
       "                                    tree_method='exact', validate_parameters=1,\n",
       "                                    verbosity=None),\n",
       "             param_grid={'gamma': [0.1, 1, 10],\n",
       "                         'learning_rate': [0.01, 0.05, 0.1, 0.2],\n",
       "                         'max_depth': [5, 8, 10, 12, 15],\n",
       "                         'n_estimators': [100, 200, 250, 500],\n",
       "                         'random_state': [2, 3, 4],\n",
       "                         'reg_lambda': [0.1, 1, 10]})"
      ]
     },
     "execution_count": 56,
     "metadata": {},
     "output_type": "execute_result"
    }
   ],
   "source": [
    "rf_grid = GridSearchCV(estimator=Regressor2, param_grid=param_grid, cv=5)\n",
    "rf_grid.fit(XX, YY)"
   ]
  },
  {
   "cell_type": "code",
   "execution_count": 57,
   "id": "f344ba02",
   "metadata": {},
   "outputs": [
    {
     "data": {
      "text/plain": [
       "{'gamma': 10,\n",
       " 'learning_rate': 0.1,\n",
       " 'max_depth': 5,\n",
       " 'n_estimators': 200,\n",
       " 'random_state': 2,\n",
       " 'reg_lambda': 0.1}"
      ]
     },
     "execution_count": 57,
     "metadata": {},
     "output_type": "execute_result"
    }
   ],
   "source": [
    "rf_grid.best_params_"
   ]
  },
  {
   "cell_type": "code",
   "execution_count": null,
   "id": "5159ddd4",
   "metadata": {},
   "outputs": [],
   "source": []
  },
  {
   "cell_type": "markdown",
   "id": "9ff1eec8",
   "metadata": {},
   "source": [
    "### Select from model"
   ]
  },
  {
   "cell_type": "code",
   "execution_count": 106,
   "id": "d15bd0e7",
   "metadata": {},
   "outputs": [
    {
     "name": "stderr",
     "output_type": "stream",
     "text": [
      "C:\\Users\\mathe\\anaconda3\\envs\\Teste_Tensor\\lib\\site-packages\\sklearn\\base.py:438: UserWarning: X has feature names, but SelectFromModel was fitted without feature names\n",
      "  warnings.warn(\n"
     ]
    }
   ],
   "source": [
    "model2 = SelectFromModel(Regressor2, prefit=True)\n",
    "X_new2 = model2.transform(XX)"
   ]
  },
  {
   "cell_type": "code",
   "execution_count": 108,
   "id": "e5d79134",
   "metadata": {},
   "outputs": [
    {
     "data": {
      "text/plain": [
       "(108, 46)"
      ]
     },
     "execution_count": 108,
     "metadata": {},
     "output_type": "execute_result"
    }
   ],
   "source": [
    "X_new2.shape"
   ]
  },
  {
   "cell_type": "code",
   "execution_count": 90,
   "id": "da992eb0",
   "metadata": {},
   "outputs": [],
   "source": [
    "Regressor_new2 = XGBRegressor(gamma=0.1,\n",
    " learning_rate=0.01, max_depth=12, n_estimators=500, random_state=2, reg_lambda=0.1)\n",
    "Regressor_new2.fit(X_new2, YY)\n",
    "predict_new2 = Regressor_new2.predict(X_new2)"
   ]
  },
  {
   "cell_type": "code",
   "execution_count": 91,
   "id": "b798eaa1",
   "metadata": {},
   "outputs": [
    {
     "name": "stdout",
     "output_type": "stream",
     "text": [
      "Avg accuracy: 0.22028866093380697\n"
     ]
    }
   ],
   "source": [
    "k = 5\n",
    "kf2 = KFold(n_splits=k)\n",
    " \n",
    "result = cross_val_score(Regressor_new2 , X_new2, YY, cv = kf2)\n",
    " \n",
    "print(\"Avg accuracy: {}\".format(result.mean()))"
   ]
  },
  {
   "cell_type": "code",
   "execution_count": 72,
   "id": "d1bd94a9",
   "metadata": {},
   "outputs": [
    {
     "name": "stdout",
     "output_type": "stream",
     "text": [
      "Avg accuracy: -12.02276277140476\n"
     ]
    }
   ],
   "source": [
    "k = 5\n",
    "kf2 = KFold(n_splits=k)\n",
    " \n",
    "result = cross_val_score(Regressor_new2 , X_new2, YY, cv = kf2, scoring='neg_mean_absolute_error')\n",
    " \n",
    "print(\"Avg accuracy: {}\".format(result.mean()))"
   ]
  },
  {
   "cell_type": "code",
   "execution_count": 73,
   "id": "401e7831",
   "metadata": {},
   "outputs": [
    {
     "name": "stdout",
     "output_type": "stream",
     "text": [
      "Avg accuracy: -234.28529289604006\n"
     ]
    },
    {
     "data": {
      "text/plain": [
       "15.306380790246925"
      ]
     },
     "execution_count": 73,
     "metadata": {},
     "output_type": "execute_result"
    }
   ],
   "source": [
    "k = 5\n",
    "kf2 = KFold(n_splits=k)\n",
    " \n",
    "result = cross_val_score(Regressor_new2 , X_new2, YY, cv = kf2, scoring='neg_mean_squared_error')\n",
    " \n",
    "print(\"Avg accuracy: {}\".format(result.mean()))\n",
    "rmse = math.sqrt(-result.mean())\n",
    "rmse"
   ]
  },
  {
   "cell_type": "code",
   "execution_count": null,
   "id": "500e6926",
   "metadata": {},
   "outputs": [],
   "source": []
  },
  {
   "cell_type": "code",
   "execution_count": 68,
   "id": "c48cda27",
   "metadata": {},
   "outputs": [
    {
     "data": {
      "text/plain": [
       "GridSearchCV(cv=5,\n",
       "             estimator=XGBRegressor(base_score=0.5, booster='gbtree',\n",
       "                                    colsample_bylevel=1, colsample_bynode=1,\n",
       "                                    colsample_bytree=1,\n",
       "                                    enable_categorical=False, gamma=0,\n",
       "                                    gpu_id=-1, importance_type=None,\n",
       "                                    interaction_constraints='',\n",
       "                                    learning_rate=0.300000012, max_delta_step=0,\n",
       "                                    max_depth=6, min_child_weight=1,\n",
       "                                    missing=nan, monotone_constraints='()',\n",
       "                                    n_estimators=100, n_jobs=4,\n",
       "                                    num_parallel_tree=1, predictor='auto',\n",
       "                                    random_state=0, reg_alpha=0, reg_lambda=1,\n",
       "                                    scale_pos_weight=1, subsample=1,\n",
       "                                    tree_method='exact', validate_parameters=1,\n",
       "                                    verbosity=None),\n",
       "             param_grid={'gamma': [0.1, 1, 10],\n",
       "                         'learning_rate': [0.01, 0.05, 0.1, 0.2],\n",
       "                         'max_depth': [5, 8, 10, 12, 15],\n",
       "                         'n_estimators': [100, 200, 250, 500],\n",
       "                         'random_state': [2, 3, 4],\n",
       "                         'reg_lambda': [0.1, 1, 10]})"
      ]
     },
     "execution_count": 68,
     "metadata": {},
     "output_type": "execute_result"
    }
   ],
   "source": [
    "rf_grid = GridSearchCV(estimator=Regressor_new2, param_grid=param_grid, cv=5)\n",
    "rf_grid.fit(X_new2, YY)"
   ]
  },
  {
   "cell_type": "code",
   "execution_count": 69,
   "id": "577afc0a",
   "metadata": {},
   "outputs": [
    {
     "data": {
      "text/plain": [
       "{'gamma': 0.1,\n",
       " 'learning_rate': 0.01,\n",
       " 'max_depth': 12,\n",
       " 'n_estimators': 500,\n",
       " 'random_state': 2,\n",
       " 'reg_lambda': 0.1}"
      ]
     },
     "execution_count": 69,
     "metadata": {},
     "output_type": "execute_result"
    }
   ],
   "source": [
    "rf_grid.best_params_"
   ]
  },
  {
   "cell_type": "code",
   "execution_count": null,
   "id": "b27a9639",
   "metadata": {},
   "outputs": [],
   "source": []
  },
  {
   "cell_type": "code",
   "execution_count": null,
   "id": "e5eba042",
   "metadata": {},
   "outputs": [],
   "source": []
  },
  {
   "cell_type": "markdown",
   "id": "48dc053e",
   "metadata": {},
   "source": [
    "## Predict Full Data"
   ]
  },
  {
   "cell_type": "code",
   "execution_count": 98,
   "id": "19fd348c",
   "metadata": {},
   "outputs": [
    {
     "data": {
      "text/plain": [
       "(3830, 241)"
      ]
     },
     "execution_count": 98,
     "metadata": {},
     "output_type": "execute_result"
    }
   ],
   "source": [
    "full_data = pd.read_csv(\"Table_5x5_Final.csv\")\n",
    "X_full = (full_data.drop([\"OBJECTID\", \"gridcode\", \"Shape_Length\", \"Shape_Area\", \"HFD\", \"Grad_Geot\", \"Count of Points\"], axis=1))\n",
    "Y_full = (full_data[\"HFD\"])\n",
    "X_full.shape"
   ]
  },
  {
   "cell_type": "code",
   "execution_count": 99,
   "id": "55683e6f",
   "metadata": {},
   "outputs": [
    {
     "name": "stderr",
     "output_type": "stream",
     "text": [
      "C:\\Users\\mathe\\anaconda3\\envs\\Teste_Tensor\\lib\\site-packages\\sklearn\\base.py:438: UserWarning: X has feature names, but SelectFromModel was fitted without feature names\n",
      "  warnings.warn(\n"
     ]
    }
   ],
   "source": [
    "X_full = model2.transform(X_full)"
   ]
  },
  {
   "cell_type": "code",
   "execution_count": 100,
   "id": "ab564d66",
   "metadata": {},
   "outputs": [
    {
     "data": {
      "text/plain": [
       "array([60.884758, 66.99465 , 77.84086 , ..., 70.98367 , 47.21288 ,\n",
       "       78.52236 ], dtype=float32)"
      ]
     },
     "execution_count": 100,
     "metadata": {},
     "output_type": "execute_result"
    }
   ],
   "source": [
    "predict_full = Regressor_new2.predict(X_full)\n",
    "predict_full"
   ]
  },
  {
   "cell_type": "code",
   "execution_count": 101,
   "id": "e1dff981",
   "metadata": {},
   "outputs": [
    {
     "data": {
      "text/html": [
       "<div>\n",
       "<style scoped>\n",
       "    .dataframe tbody tr th:only-of-type {\n",
       "        vertical-align: middle;\n",
       "    }\n",
       "\n",
       "    .dataframe tbody tr th {\n",
       "        vertical-align: top;\n",
       "    }\n",
       "\n",
       "    .dataframe thead th {\n",
       "        text-align: right;\n",
       "    }\n",
       "</style>\n",
       "<table border=\"1\" class=\"dataframe\">\n",
       "  <thead>\n",
       "    <tr style=\"text-align: right;\">\n",
       "      <th></th>\n",
       "      <th>0</th>\n",
       "    </tr>\n",
       "  </thead>\n",
       "  <tbody>\n",
       "    <tr>\n",
       "      <th>count</th>\n",
       "      <td>3830.000000</td>\n",
       "    </tr>\n",
       "    <tr>\n",
       "      <th>mean</th>\n",
       "      <td>63.905807</td>\n",
       "    </tr>\n",
       "    <tr>\n",
       "      <th>std</th>\n",
       "      <td>10.969373</td>\n",
       "    </tr>\n",
       "    <tr>\n",
       "      <th>min</th>\n",
       "      <td>24.987192</td>\n",
       "    </tr>\n",
       "    <tr>\n",
       "      <th>25%</th>\n",
       "      <td>57.619921</td>\n",
       "    </tr>\n",
       "    <tr>\n",
       "      <th>50%</th>\n",
       "      <td>63.930004</td>\n",
       "    </tr>\n",
       "    <tr>\n",
       "      <th>75%</th>\n",
       "      <td>70.023767</td>\n",
       "    </tr>\n",
       "    <tr>\n",
       "      <th>max</th>\n",
       "      <td>115.122223</td>\n",
       "    </tr>\n",
       "  </tbody>\n",
       "</table>\n",
       "</div>"
      ],
      "text/plain": [
       "                 0\n",
       "count  3830.000000\n",
       "mean     63.905807\n",
       "std      10.969373\n",
       "min      24.987192\n",
       "25%      57.619921\n",
       "50%      63.930004\n",
       "75%      70.023767\n",
       "max     115.122223"
      ]
     },
     "execution_count": 101,
     "metadata": {},
     "output_type": "execute_result"
    }
   ],
   "source": [
    "predict_full = pd.DataFrame(predict_full)\n",
    "predict_full.describe()"
   ]
  },
  {
   "cell_type": "code",
   "execution_count": 102,
   "id": "9566893d",
   "metadata": {},
   "outputs": [],
   "source": [
    "prediction = pd.DataFrame(predict_full).to_excel(\"XGB_5x5_Selected_outliersout_hfd.xlsx\")"
   ]
  },
  {
   "cell_type": "code",
   "execution_count": null,
   "id": "acdc11c2",
   "metadata": {},
   "outputs": [],
   "source": []
  }
 ],
 "metadata": {
  "kernelspec": {
   "display_name": "Python 3",
   "language": "python",
   "name": "python3"
  },
  "language_info": {
   "codemirror_mode": {
    "name": "ipython",
    "version": 3
   },
   "file_extension": ".py",
   "mimetype": "text/x-python",
   "name": "python",
   "nbconvert_exporter": "python",
   "pygments_lexer": "ipython3",
   "version": "3.8.8"
  }
 },
 "nbformat": 4,
 "nbformat_minor": 5
}
